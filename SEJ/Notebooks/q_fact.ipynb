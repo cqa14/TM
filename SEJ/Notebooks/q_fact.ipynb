{
 "cells": [
  {
   "cell_type": "code",
   "execution_count": 47,
   "metadata": {},
   "outputs": [],
   "source": [
    "from qiskit import *\n",
    "from qiskit.circuit import Parameter\n",
    "from qiskit.tools.visualization import plot_histogram\n",
    "from qiskit import Aer, transpile\n",
    "\n",
    "import numpy as np\n",
    "import matplotlib.pyplot as plt\n",
    "\n",
    "simulator = Aer.get_backend('aer_simulator', device=\"GPU\")\n",
    "\n",
    "# using tikzplotlib to export plot to latex\n",
    "import tikzplotlib\n",
    "\n",
    "def tikzplotlib_fix_ncols(obj):\n",
    "    \"\"\"\n",
    "    workaround for matplotlib 3.6 renamed legend's _ncol to _ncols, which breaks tikzplotlib\n",
    "    \"\"\"\n",
    "    if hasattr(obj, \"_ncols\"):\n",
    "        obj._ncol = obj._ncols\n",
    "    for child in obj.get_children():\n",
    "        tikzplotlib_fix_ncols(child)\n",
    "\n",
    "def save_fig(name, width='10cm', height='10cm'):\n",
    "    fig = plt.gcf()\n",
    "    tikzplotlib_fix_ncols(fig)\n",
    "\n",
    "    tikzplotlib.clean_figure()\n",
    "    tikzplotlib.save(name + '.tex', axis_width=width, axis_height=height)"
   ]
  },
  {
   "cell_type": "markdown",
   "metadata": {},
   "source": [
    "Mise en place des paramétres"
   ]
  },
  {
   "cell_type": "code",
   "execution_count": 48,
   "metadata": {},
   "outputs": [],
   "source": [
    "nqubits = 3\n",
    "train_depth = 3\n",
    "time_steps = 0.77"
   ]
  },
  {
   "cell_type": "markdown",
   "metadata": {},
   "source": [
    "Points d'entrainements"
   ]
  },
  {
   "cell_type": "code",
   "execution_count": 49,
   "metadata": {},
   "outputs": [],
   "source": [
    "## Take number_x_train points from [x_min, x_max] randomly and use them as the training data.\n",
    "x_min = - 1.; x_max = 1.\n",
    "num_x_train = 15\n",
    "\n",
    "## The 1-variable function we want to learn\n",
    "func_to_learn = lambda x: np.sin(x*np.pi)\n",
    "# func_to_learn = lambda x: np.exp(-(x*3)**2)"
   ]
  },
  {
   "cell_type": "code",
   "execution_count": 50,
   "metadata": {},
   "outputs": [
    {
     "data": {
      "image/png": "[encoded data removed]",
      "text/plain": [
       "<Figure size 640x480 with 1 Axes>"
      ]
     },
     "metadata": {},
     "output_type": "display_data"
    }
   ],
   "source": [
    "#### Prepare training data\n",
    "\n",
    "train_x = x_min + (x_max - x_min) * np.random.rand(num_x_train)\n",
    "train_y = func_to_learn(train_x)\n",
    "\n",
    "# Add noise to a clean sin function\n",
    "mag_noise = 0.05\n",
    "train_y = train_y + mag_noise * np.random.randn(num_x_train)\n",
    "\n",
    "y_min = min(train_y)\n",
    "y_max = max(train_y)\n",
    "\n",
    "amp_y = y_max - y_min\n",
    "\n",
    "plt.plot(train_x, train_y, \"o\")\n",
    "plt.show()"
   ]
  },
  {
   "cell_type": "markdown",
   "metadata": {},
   "source": [
    "État de départ"
   ]
  },
  {
   "cell_type": "code",
   "execution_count": 51,
   "metadata": {},
   "outputs": [],
   "source": [
    "def U_in(x):\n",
    "    qc = QuantumCircuit(nqubits)\n",
    "    angle_y = np.arcsin(x)\n",
    "    angle_z = np.arccos(x**2)\n",
    "    for i in range(nqubits):\n",
    "        qc.ry(angle_y, i)\n",
    "        qc.rz(angle_z, i)\n",
    "    return qc"
   ]
  },
  {
   "cell_type": "markdown",
   "metadata": {},
   "source": [
    "État parmétrique"
   ]
  },
  {
   "cell_type": "code",
   "execution_count": 52,
   "metadata": {},
   "outputs": [],
   "source": [
    "# Import the matrix X, I, and Z gates from the qiskit library\n",
    "from functools import reduce\n",
    "\n",
    "X = np.array([[0, 1], [1, 0]])\n",
    "Z = np.array([[1, 0], [0, -1]])\n",
    "I = np.array([[1, 0], [0, 1]])\n",
    "\n",
    "def make_fullgate(list_SiteAndOperator, nqubit):\n",
    "    '''\n",
    "    Receive list_SiteAndOperator = [ [i_0, O_0], [i_1, O_1], ...] ,\n",
    "    insert Identity into irrelevent qubit, and create (2**nqubit, 2**nqubit) size matrix\n",
    "    I(0) * ... * O_0(i_0) * ... * O_1(i_1) ...\n",
    "    '''    \n",
    "    list_Site = [SiteAndOperator[0] for SiteAndOperator in list_SiteAndOperator]\n",
    "    list_SingleGates = []  ## list single 1-qubit gates and reduce them using np.kron\n",
    "    cnt = 0\n",
    "    for i in range(nqubit):\n",
    "        if (i in list_Site):\n",
    "            list_SingleGates.append( list_SiteAndOperator[cnt][1] )\n",
    "            cnt += 1\n",
    "        else: ## insert identity if i is not included in list_Site\n",
    "            list_SingleGates.append(I)\n",
    "\n",
    "    return reduce(np.kron, list_SingleGates)\n",
    "\n",
    "ham = np.zeros((2**nqubits,2**nqubits), dtype = complex)\n",
    "for i in range(nqubits): ## i runs 0 to nqubit-1\n",
    "    Jx = -1. + 2.*np.random.rand() ## random number between -1~1\n",
    "    ham += Jx * make_fullgate( [ [i, X] ], nqubits)\n",
    "    for j in range(i+1, nqubits):\n",
    "        J_ij = -1. + 2.*np.random.rand()\n",
    "        ham += J_ij * make_fullgate ([ [i, Z], [j, Z]], nqubits)\n",
    "\n",
    "## Create a time evolution operator by diagonalizing.  H*P = P*D <-> H = P*D*P^dagger\n",
    "diag, eigen_vecs = np.linalg.eigh(ham)\n",
    "time_evol_op = np.dot(np.dot(eigen_vecs, np.diag(np.exp(-1j*time_steps*diag))), eigen_vecs.T.conj()) # e^-iHT"
   ]
  },
  {
   "cell_type": "code",
   "execution_count": 53,
   "metadata": {},
   "outputs": [
    {
     "data": {
      "text/plain": [
       "(8, 8)"
      ]
     },
     "execution_count": 53,
     "metadata": {},
     "output_type": "execute_result"
    }
   ],
   "source": [
    "time_evol_op.shape"
   ]
  },
  {
   "cell_type": "code",
   "execution_count": 54,
   "metadata": {},
   "outputs": [
    {
     "name": "stdout",
     "output_type": "stream",
     "text": [
      "\\documentclass[border=2px]{standalone}\n",
      "\n",
      "\\usepackage[braket, qm]{qcircuit}\n",
      "\\usepackage{graphicx}\n",
      "\n",
      "\\begin{document}\n",
      "\\scalebox{1.0}{\n",
      "\\Qcircuit @C=1.0em @R=1.0em @!R { \\\\\n",
      "\t \t\\nghost{{q}_{0} :  } & \\lstick{{q}_{0} :  } & \\multigate{2}{\\mathrm{Unitary}}_<<<{0} & \\qw & \\qw\\\\\n",
      "\t \t\\nghost{{q}_{1} :  } & \\lstick{{q}_{1} :  } & \\ghost{\\mathrm{Unitary}}_<<<{1} & \\qw & \\qw\\\\\n",
      "\t \t\\nghost{{q}_{2} :  } & \\lstick{{q}_{2} :  } & \\ghost{\\mathrm{Unitary}}_<<<{2} & \\qw & \\qw\\\\\n",
      "\\\\ }}\n",
      "\\end{document}\n"
     ]
    }
   ],
   "source": [
    "# convert time_evol_op to a qiskit operator\n",
    "from qiskit.quantum_info import Operator\n",
    "time_evol_op = Operator(time_evol_op)\n",
    "evolve = QuantumCircuit(nqubits)\n",
    "evolve.unitary(time_evol_op, range(nqubits))\n",
    "print(evolve.draw('latex_source'))"
   ]
  },
  {
   "cell_type": "code",
   "execution_count": 55,
   "metadata": {},
   "outputs": [
    {
     "name": "stdout",
     "output_type": "stream",
     "text": [
      "\\documentclass[border=2px]{standalone}\n",
      "\n",
      "\\usepackage[braket, qm]{qcircuit}\n",
      "\\usepackage{graphicx}\n",
      "\n",
      "\\begin{document}\n",
      "\\scalebox{1.0}{\n",
      "\\Qcircuit @C=1.0em @R=0.2em @!R { \\\\\n",
      "\t \t\\nghost{{q}_{0} :  } & \\lstick{{q}_{0} :  } & \\gate{\\mathrm{R_X}\\,(\\mathrm{{\\ensuremath{\\theta}}0})} & \\gate{\\mathrm{R_Z}\\,(\\mathrm{{\\ensuremath{\\theta}}3})} & \\gate{\\mathrm{R_X}\\,(\\mathrm{{\\ensuremath{\\theta}}6})} & \\qw & \\qw\\\\\n",
      "\t \t\\nghost{{q}_{1} :  } & \\lstick{{q}_{1} :  } & \\gate{\\mathrm{R_X}\\,(\\mathrm{{\\ensuremath{\\theta}}1})} & \\gate{\\mathrm{R_Z}\\,(\\mathrm{{\\ensuremath{\\theta}}4})} & \\gate{\\mathrm{R_X}\\,(\\mathrm{{\\ensuremath{\\theta}}7})} & \\qw & \\qw\\\\\n",
      "\t \t\\nghost{{q}_{2} :  } & \\lstick{{q}_{2} :  } & \\gate{\\mathrm{R_X}\\,(\\mathrm{{\\ensuremath{\\theta}}2})} & \\gate{\\mathrm{R_Z}\\,(\\mathrm{{\\ensuremath{\\theta}}5})} & \\gate{\\mathrm{R_X}\\,(\\mathrm{{\\ensuremath{\\theta}}8})} & \\qw & \\qw\\\\\n",
      "\\\\ }}\n",
      "\\end{document}\n"
     ]
    }
   ],
   "source": [
    "U_rot = QuantumCircuit(nqubits)\n",
    "# Create 3*nqubits parameters for the rotation gates rx, rz, rx on each qubit for U_rot\n",
    "params = [Parameter('θ'+str(i)) for i in range(3*nqubits)]\n",
    "for i in range(nqubits):\n",
    "    U_rot.rx(params[i], i)\n",
    "    U_rot.rz(params[i+nqubits], i)\n",
    "    U_rot.rx(params[i+2*nqubits], i)\n",
    "print(U_rot.draw('latex_source')) "
   ]
  },
  {
   "cell_type": "code",
   "execution_count": 56,
   "metadata": {},
   "outputs": [],
   "source": [
    "def U_out(parmameters):\n",
    "    qc = QuantumCircuit(nqubits)\n",
    "    for c in range(train_depth):\n",
    "        qc.compose(evolve, inplace=True)\n",
    "        rot_gate = U_rot.bind_parameters({params[i]: parmameters[3*c*nqubits + i] for i in range(3*nqubits)})\n",
    "        qc.compose(rot_gate, inplace=True)\n",
    "    return qc"
   ]
  },
  {
   "cell_type": "markdown",
   "metadata": {},
   "source": [
    "Mesure"
   ]
  },
  {
   "cell_type": "code",
   "execution_count": 57,
   "metadata": {},
   "outputs": [],
   "source": [
    "def circ_meas(qc):\n",
    "    qc.measure_all()\n",
    "    qc = transpile(qc, simulator)\n",
    "    counts = simulator.run(qc).result().get_counts()\n",
    "    tot_counts = sum(counts.values())\n",
    "    zero_state = 0\n",
    "    for key in counts:\n",
    "        if key[0] == '0':\n",
    "            zero_state += counts[key]\n",
    "    expected = zero_state/tot_counts\n",
    "    return expected*amp_y + y_min"
   ]
  },
  {
   "cell_type": "markdown",
   "metadata": {},
   "source": [
    "Circuit complet"
   ]
  },
  {
   "cell_type": "code",
   "execution_count": 58,
   "metadata": {},
   "outputs": [],
   "source": [
    "def complete_circuit(x, *parameters):\n",
    "    qc = QuantumCircuit(nqubits)\n",
    "    qc.compose(U_in(x), inplace=True)\n",
    "    qc.compose(U_out(*parameters), inplace=True)\n",
    "    return circ_meas(qc)"
   ]
  },
  {
   "cell_type": "code",
   "execution_count": 59,
   "metadata": {},
   "outputs": [
    {
     "data": {
      "text/plain": [
       "(27,)"
      ]
     },
     "execution_count": 59,
     "metadata": {},
     "output_type": "execute_result"
    }
   ],
   "source": [
    "# Create a set of initial parameters\n",
    "initial_parameters = np.random.rand(train_depth, 3*nqubits)*2*np.pi\n",
    "initial_parameters = initial_parameters.flatten()\n",
    "initial_parameters.shape"
   ]
  },
  {
   "cell_type": "code",
   "execution_count": 60,
   "metadata": {},
   "outputs": [
    {
     "name": "stdout",
     "output_type": "stream",
     "text": [
      "\\documentclass[border=2px]{standalone}\n",
      "\n",
      "\\usepackage[braket, qm]{qcircuit}\n",
      "\\usepackage{graphicx}\n",
      "\n",
      "\\begin{document}\n",
      "\\scalebox{1.0}{\n",
      "\\Qcircuit @C=1.0em @R=0.2em @!R { \\\\\n",
      "\t \t\\nghost{{q}_{0} :  } & \\lstick{{q}_{0} :  } & \\multigate{2}{\\mathrm{Unitary}}_<<<{0} & \\gate{\\mathrm{R_X}\\,(\\mathrm{2.403})} & \\gate{\\mathrm{R_Z}\\,(\\mathrm{5.414})} & \\gate{\\mathrm{R_X}\\,(\\mathrm{1.948})} & \\multigate{2}{\\mathrm{Unitary}}_<<<{0} & \\gate{\\mathrm{R_X}\\,(\\mathrm{4.838})} & \\gate{\\mathrm{R_Z}\\,(\\mathrm{3.738})} & \\gate{\\mathrm{R_X}\\,(\\mathrm{2.826})} & \\multigate{2}{\\mathrm{Unitary}}_<<<{0} & \\gate{\\mathrm{R_X}\\,(\\mathrm{5.467})} & \\gate{\\mathrm{R_Z}\\,(\\mathrm{0.8092})} & \\gate{\\mathrm{R_X}\\,(\\mathrm{0.2784})} & \\qw & \\qw\\\\\n",
      "\t \t\\nghost{{q}_{1} :  } & \\lstick{{q}_{1} :  } & \\ghost{\\mathrm{Unitary}}_<<<{1} & \\gate{\\mathrm{R_X}\\,(\\mathrm{2.446})} & \\gate{\\mathrm{R_Z}\\,(\\mathrm{1.276})} & \\gate{\\mathrm{R_X}\\,(\\mathrm{1.475})} & \\ghost{\\mathrm{Unitary}}_<<<{1} & \\gate{\\mathrm{R_X}\\,(\\mathrm{5.049})} & \\gate{\\mathrm{R_Z}\\,(\\mathrm{6.197})} & \\gate{\\mathrm{R_X}\\,(\\mathrm{3.458})} & \\ghost{\\mathrm{Unitary}}_<<<{1} & \\gate{\\mathrm{R_X}\\,(\\mathrm{1.788})} & \\gate{\\mathrm{R_Z}\\,(\\mathrm{1.56})} & \\gate{\\mathrm{R_X}\\,(\\mathrm{1.651})} & \\qw & \\qw\\\\\n",
      "\t \t\\nghost{{q}_{2} :  } & \\lstick{{q}_{2} :  } & \\ghost{\\mathrm{Unitary}}_<<<{2} & \\gate{\\mathrm{R_X}\\,(\\mathrm{5.116})} & \\gate{\\mathrm{R_Z}\\,(\\mathrm{3.954})} & \\gate{\\mathrm{R_X}\\,(\\mathrm{5.591})} & \\ghost{\\mathrm{Unitary}}_<<<{2} & \\gate{\\mathrm{R_X}\\,(\\mathrm{3.615})} & \\gate{\\mathrm{R_Z}\\,(\\mathrm{2.364})} & \\gate{\\mathrm{R_X}\\,(\\mathrm{3.33})} & \\ghost{\\mathrm{Unitary}}_<<<{2} & \\gate{\\mathrm{R_X}\\,(\\mathrm{3.221})} & \\gate{\\mathrm{R_Z}\\,(\\mathrm{4.064})} & \\gate{\\mathrm{R_X}\\,(\\mathrm{2.956})} & \\qw & \\qw\\\\\n",
      "\\\\ }}\n",
      "\\end{document}\n"
     ]
    },
    {
     "name": "stderr",
     "output_type": "stream",
     "text": [
      "C:\\Users\\romai\\AppData\\Local\\Temp\\ipykernel_9304\\869448860.py:5: DeprecationWarning: The method ``qiskit.circuit.quantumcircuit.QuantumCircuit.bind_parameters()`` is deprecated as of qiskit 0.45.0. It will be removed no earlier than 3 months after the release date. Use assign_parameters() instead\n",
      "  rot_gate = U_rot.bind_parameters({params[i]: parmameters[3*c*nqubits + i] for i in range(3*nqubits)})\n"
     ]
    }
   ],
   "source": [
    "print(U_out(initial_parameters).draw('latex_source'))"
   ]
  },
  {
   "cell_type": "code",
   "execution_count": 61,
   "metadata": {},
   "outputs": [
    {
     "name": "stderr",
     "output_type": "stream",
     "text": [
      "C:\\Users\\romai\\AppData\\Local\\Temp\\ipykernel_9304\\869448860.py:5: DeprecationWarning: The method ``qiskit.circuit.quantumcircuit.QuantumCircuit.bind_parameters()`` is deprecated as of qiskit 0.45.0. It will be removed no earlier than 3 months after the release date. Use assign_parameters() instead\n",
      "  rot_gate = U_rot.bind_parameters({params[i]: parmameters[3*c*nqubits + i] for i in range(3*nqubits)})\n"
     ]
    },
    {
     "data": {
      "text/plain": [
       "0.2209217576480056"
      ]
     },
     "execution_count": 61,
     "metadata": {},
     "output_type": "execute_result"
    }
   ],
   "source": [
    "complete_circuit(1, initial_parameters)"
   ]
  },
  {
   "cell_type": "markdown",
   "metadata": {},
   "source": [
    "Cost"
   ]
  },
  {
   "cell_type": "code",
   "execution_count": 62,
   "metadata": {},
   "outputs": [],
   "source": [
    "def cost_function(parameters):\n",
    "    tot = []\n",
    "    x = train_x\n",
    "    y = train_y\n",
    "    for i in range(len(x)):\n",
    "        expected = complete_circuit(x[i], parameters)\n",
    "        cost = (expected - y[i])**2\n",
    "        tot.append(cost)\n",
    "    return np.mean(tot)"
   ]
  },
  {
   "cell_type": "code",
   "execution_count": 63,
   "metadata": {},
   "outputs": [
    {
     "name": "stderr",
     "output_type": "stream",
     "text": [
      "C:\\Users\\romai\\AppData\\Local\\Temp\\ipykernel_9304\\869448860.py:5: DeprecationWarning: The method ``qiskit.circuit.quantumcircuit.QuantumCircuit.bind_parameters()`` is deprecated as of qiskit 0.45.0. It will be removed no earlier than 3 months after the release date. Use assign_parameters() instead\n",
      "  rot_gate = U_rot.bind_parameters({params[i]: parmameters[3*c*nqubits + i] for i in range(3*nqubits)})\n"
     ]
    },
    {
     "data": {
      "text/plain": [
       "0.9116426558042666"
      ]
     },
     "execution_count": 63,
     "metadata": {},
     "output_type": "execute_result"
    }
   ],
   "source": [
    "cost_function(initial_parameters)"
   ]
  },
  {
   "cell_type": "code",
   "execution_count": 72,
   "metadata": {},
   "outputs": [
    {
     "name": "stderr",
     "output_type": "stream",
     "text": [
      "C:\\Users\\romai\\AppData\\Local\\Temp\\ipykernel_9304\\869448860.py:5: DeprecationWarning: The method ``qiskit.circuit.quantumcircuit.QuantumCircuit.bind_parameters()`` is deprecated as of qiskit 0.45.0. It will be removed no earlier than 3 months after the release date. Use assign_parameters() instead\n",
      "  rot_gate = U_rot.bind_parameters({params[i]: parmameters[3*c*nqubits + i] for i in range(3*nqubits)})\n"
     ]
    },
    {
     "data": {
      "image/png": "[encoded data removed]",
      "text/plain": [
       "<Figure size 640x480 with 1 Axes>"
      ]
     },
     "metadata": {},
     "output_type": "display_data"
    }
   ],
   "source": [
    "plt.plot(train_x, train_y, 'ro', label=\"Valeurs d'entrainement\")\n",
    "plt.plot(train_x, [complete_circuit(x, initial_parameters) for x in train_x], 'bo', label=\"Valeurs prédites avec les paramètres initiaux\")\n",
    "plt.xlabel(\"x\")\n",
    "plt.ylabel(\"y\")\n",
    "plt.legend(loc=\"lower right\")\n",
    "save_fig(\"initial_predictions\")"
   ]
  },
  {
   "cell_type": "markdown",
   "metadata": {},
   "source": [
    "Entrainement"
   ]
  },
  {
   "cell_type": "markdown",
   "metadata": {},
   "source": [
    "Tests"
   ]
  },
  {
   "cell_type": "markdown",
   "metadata": {},
   "source": [
    "Descente de gradient"
   ]
  },
  {
   "cell_type": "code",
   "execution_count": 65,
   "metadata": {},
   "outputs": [],
   "source": [
    "def grad_cost_function(depth, step):\n",
    "    int_cost = []\n",
    "    opt_param = initial_parameters.copy()\n",
    "    prev_cost = cost_function(opt_param)\n",
    "    for _ in range(depth):\n",
    "        for i in range(3*nqubits*train_depth):\n",
    "            opt_param[i] += step\n",
    "            c1 = cost_function(opt_param)\n",
    "            opt_param[i] -= 2*step\n",
    "            c2 = cost_function(opt_param)\n",
    "            if prev_cost < c1 and prev_cost < c2:\n",
    "                opt_param[i] += step\n",
    "                int_cost.append(prev_cost)\n",
    "            elif c1 < c2:\n",
    "                opt_param[i] += 2*step\n",
    "                int_cost.append(c1)\n",
    "                prev_cost = c1\n",
    "            else:\n",
    "                int_cost.append(c2)\n",
    "                prev_cost = c2\n",
    "    \n",
    "    return (int_cost, opt_param)"
   ]
  },
  {
   "cell_type": "code",
   "execution_count": 66,
   "metadata": {},
   "outputs": [
    {
     "name": "stderr",
     "output_type": "stream",
     "text": [
      "C:\\Users\\romai\\AppData\\Local\\Temp\\ipykernel_9304\\869448860.py:5: DeprecationWarning: The method ``qiskit.circuit.quantumcircuit.QuantumCircuit.bind_parameters()`` is deprecated as of qiskit 0.45.0. It will be removed no earlier than 3 months after the release date. Use assign_parameters() instead\n",
      "  rot_gate = U_rot.bind_parameters({params[i]: parmameters[3*c*nqubits + i] for i in range(3*nqubits)})\n"
     ]
    }
   ],
   "source": [
    "example_desc, example_opt = grad_cost_function(20, 0.1)"
   ]
  },
  {
   "cell_type": "code",
   "execution_count": 67,
   "metadata": {},
   "outputs": [
    {
     "name": "stderr",
     "output_type": "stream",
     "text": [
      "No artists with labels found to put in legend.  Note that artists whose label start with an underscore are ignored when legend() is called with no argument.\n"
     ]
    },
    {
     "data": {
      "image/png": "[encoded data removed]",
      "text/plain": [
       "<Figure size 640x480 with 1 Axes>"
      ]
     },
     "metadata": {},
     "output_type": "display_data"
    }
   ],
   "source": [
    "plt.plot(example_desc)\n",
    "plt.xlabel(\"Nombre d'itérations\")\n",
    "plt.ylabel(\"Valeur de la fonction coût\")\n",
    "plt.legend()\n",
    "save_fig(\"gradient_descent\")"
   ]
  },
  {
   "cell_type": "code",
   "execution_count": 68,
   "metadata": {},
   "outputs": [
    {
     "name": "stderr",
     "output_type": "stream",
     "text": [
      "C:\\Users\\romai\\AppData\\Local\\Temp\\ipykernel_9304\\869448860.py:5: DeprecationWarning: The method ``qiskit.circuit.quantumcircuit.QuantumCircuit.bind_parameters()`` is deprecated as of qiskit 0.45.0. It will be removed no earlier than 3 months after the release date. Use assign_parameters() instead\n",
      "  rot_gate = U_rot.bind_parameters({params[i]: parmameters[3*c*nqubits + i] for i in range(3*nqubits)})\n"
     ]
    },
    {
     "data": {
      "image/png": "[encoded data removed]",
      "text/plain": [
       "<Figure size 640x480 with 1 Axes>"
      ]
     },
     "metadata": {},
     "output_type": "display_data"
    }
   ],
   "source": [
    "plt.plot(train_x, train_y, 'ro', label=\"Valeurs d'entrainement\")\n",
    "plt.plot(np.linspace(-1,1), [complete_circuit(x, example_opt) for x in np.linspace(-1,1)], '-', label=\"Extrapolation avec la descente de gradient\")\n",
    "plt.plot(train_x, [complete_circuit(x, initial_parameters) for x in train_x], 'bo', label=\"Valeurs prédites avec les paramètres initiaux\")\n",
    "plt.xlabel(\"x\")\n",
    "plt.ylabel(\"y\")\n",
    "plt.legend()\n",
    "save_fig(\"extrapolation_gradient_descent\")"
   ]
  },
  {
   "cell_type": "code",
   "execution_count": 69,
   "metadata": {},
   "outputs": [
    {
     "name": "stdout",
     "output_type": "stream",
     "text": [
      "\\documentclass[border=2px]{standalone}\n",
      "\n",
      "\\usepackage[braket, qm]{qcircuit}\n",
      "\\usepackage{graphicx}\n",
      "\n",
      "\\begin{document}\n",
      "\\scalebox{1.0}{\n",
      "\\Qcircuit @C=1.0em @R=0.2em @!R { \\\\\n",
      "\t \t\\nghost{{q}_{0} :  } & \\lstick{{q}_{0} :  } & \\multigate{2}{\\mathrm{Unitary}}_<<<{0} & \\gate{\\mathrm{R_X}\\,(\\mathrm{2.603})} & \\gate{\\mathrm{R_Z}\\,(\\mathrm{5.414})} & \\gate{\\mathrm{R_X}\\,(\\mathrm{1.948})} & \\multigate{2}{\\mathrm{Unitary}}_<<<{0} & \\gate{\\mathrm{R_X}\\,(\\mathrm{4.738})} & \\gate{\\mathrm{R_Z}\\,(\\mathrm{3.538})} & \\gate{\\mathrm{R_X}\\,(\\mathrm{2.526})} & \\multigate{2}{\\mathrm{Unitary}}_<<<{0} & \\gate{\\mathrm{R_X}\\,(\\mathrm{5.667})} & \\gate{\\mathrm{R_Z}\\,(\\mathrm{0.9092})} & \\gate{\\mathrm{R_X}\\,(\\mathrm{0.4784})} & \\qw & \\qw\\\\\n",
      "\t \t\\nghost{{q}_{1} :  } & \\lstick{{q}_{1} :  } & \\ghost{\\mathrm{Unitary}}_<<<{1} & \\gate{\\mathrm{R_X}\\,(\\mathrm{3.146})} & \\gate{\\mathrm{R_Z}\\,(\\mathrm{1.276})} & \\gate{\\mathrm{R_X}\\,(\\mathrm{1.375})} & \\ghost{\\mathrm{Unitary}}_<<<{1} & \\gate{\\mathrm{R_X}\\,(\\mathrm{4.949})} & \\gate{\\mathrm{R_Z}\\,(\\mathrm{6.097})} & \\gate{\\mathrm{R_X}\\,(\\mathrm{3.358})} & \\ghost{\\mathrm{Unitary}}_<<<{1} & \\gate{\\mathrm{R_X}\\,(\\mathrm{1.888})} & \\gate{\\mathrm{R_Z}\\,(\\mathrm{1.66})} & \\gate{\\mathrm{R_X}\\,(\\mathrm{1.751})} & \\qw & \\qw\\\\\n",
      "\t \t\\nghost{{q}_{2} :  } & \\lstick{{q}_{2} :  } & \\ghost{\\mathrm{Unitary}}_<<<{2} & \\gate{\\mathrm{R_X}\\,(\\mathrm{5.016})} & \\gate{\\mathrm{R_Z}\\,(\\mathrm{3.954})} & \\gate{\\mathrm{R_X}\\,(\\mathrm{4.891})} & \\ghost{\\mathrm{Unitary}}_<<<{2} & \\gate{\\mathrm{R_X}\\,(\\mathrm{3.415})} & \\gate{\\mathrm{R_Z}\\,(\\mathrm{2.564})} & \\gate{\\mathrm{R_X}\\,(\\mathrm{3.73})} & \\ghost{\\mathrm{Unitary}}_<<<{2} & \\gate{\\mathrm{R_X}\\,(\\mathrm{3.521})} & \\gate{\\mathrm{R_Z}\\,(\\mathrm{4.264})} & \\gate{\\mathrm{R_X}\\,(\\mathrm{2.056})} & \\qw & \\qw\\\\\n",
      "\\\\ }}\n",
      "\\end{document}\n"
     ]
    },
    {
     "name": "stderr",
     "output_type": "stream",
     "text": [
      "C:\\Users\\romai\\AppData\\Local\\Temp\\ipykernel_9304\\869448860.py:5: DeprecationWarning: The method ``qiskit.circuit.quantumcircuit.QuantumCircuit.bind_parameters()`` is deprecated as of qiskit 0.45.0. It will be removed no earlier than 3 months after the release date. Use assign_parameters() instead\n",
      "  rot_gate = U_rot.bind_parameters({params[i]: parmameters[3*c*nqubits + i] for i in range(3*nqubits)})\n"
     ]
    }
   ],
   "source": [
    "print(U_out(example_opt).draw('latex_source'))"
   ]
  },
  {
   "cell_type": "code",
   "execution_count": 76,
   "metadata": {},
   "outputs": [
    {
     "name": "stdout",
     "output_type": "stream",
     "text": [
      "\\documentclass[border=2px]{standalone}\n",
      "\n",
      "\\usepackage[braket, qm]{qcircuit}\n",
      "\\usepackage{graphicx}\n",
      "\n",
      "\\begin{document}\n",
      "\\scalebox{1.0}{\n",
      "\\Qcircuit @C=1.0em @R=0.2em @!R { \\\\\n",
      "\t \t\\nghost{{q}_{0} :  } & \\lstick{{q}_{0} :  } & \\gate{\\mathrm{R_Y}\\,(\\mathrm{arcsin(x)})} & \\gate{\\mathrm{R_Z}\\,(\\mathrm{arccos(x^2)})} \\barrier[0em]{2} & \\qw & \\multigate{2}{\\mathrm{Unitary}}_<<<{0} & \\gate{\\mathrm{R_X}\\,(\\mathrm{{\\ensuremath{\\theta}}0})} & \\gate{\\mathrm{R_Z}\\,(\\mathrm{{\\ensuremath{\\theta}}3})} & \\gate{\\mathrm{R_X}\\,(\\mathrm{{\\ensuremath{\\theta}}6})} & \\multigate{2}{\\mathrm{Unitary}}_<<<{0} & \\gate{\\mathrm{R_X}\\,(\\mathrm{{\\ensuremath{\\theta}}0})} & \\gate{\\mathrm{R_Z}\\,(\\mathrm{{\\ensuremath{\\theta}}3})} & \\gate{\\mathrm{R_X}\\,(\\mathrm{{\\ensuremath{\\theta}}6})} & \\multigate{2}{\\mathrm{Unitary}}_<<<{0} & \\gate{\\mathrm{R_X}\\,(\\mathrm{{\\ensuremath{\\theta}}0})} & \\gate{\\mathrm{R_Z}\\,(\\mathrm{{\\ensuremath{\\theta}}3})} & \\gate{\\mathrm{R_X}\\,(\\mathrm{{\\ensuremath{\\theta}}6})} \\barrier[0em]{2} & \\qw & \\meter & \\qw & \\qw\\\\\n",
      "\t \t\\nghost{{q}_{1} :  } & \\lstick{{q}_{1} :  } & \\gate{\\mathrm{R_Y}\\,(\\mathrm{arcsin(x)})} & \\gate{\\mathrm{R_Z}\\,(\\mathrm{arccos(x^2)})} & \\qw & \\ghost{\\mathrm{Unitary}}_<<<{1} & \\gate{\\mathrm{R_X}\\,(\\mathrm{{\\ensuremath{\\theta}}1})} & \\gate{\\mathrm{R_Z}\\,(\\mathrm{{\\ensuremath{\\theta}}4})} & \\gate{\\mathrm{R_X}\\,(\\mathrm{{\\ensuremath{\\theta}}7})} & \\ghost{\\mathrm{Unitary}}_<<<{1} & \\gate{\\mathrm{R_X}\\,(\\mathrm{{\\ensuremath{\\theta}}1})} & \\gate{\\mathrm{R_Z}\\,(\\mathrm{{\\ensuremath{\\theta}}4})} & \\gate{\\mathrm{R_X}\\,(\\mathrm{{\\ensuremath{\\theta}}7})} & \\ghost{\\mathrm{Unitary}}_<<<{1} & \\gate{\\mathrm{R_X}\\,(\\mathrm{{\\ensuremath{\\theta}}1})} & \\gate{\\mathrm{R_Z}\\,(\\mathrm{{\\ensuremath{\\theta}}4})} & \\gate{\\mathrm{R_X}\\,(\\mathrm{{\\ensuremath{\\theta}}7})} & \\qw & \\qw & \\qw & \\qw\\\\\n",
      "\t \t\\nghost{{q}_{2} :  } & \\lstick{{q}_{2} :  } & \\gate{\\mathrm{R_Y}\\,(\\mathrm{arcsin(x)})} & \\gate{\\mathrm{R_Z}\\,(\\mathrm{arccos(x^2)})} & \\qw & \\ghost{\\mathrm{Unitary}}_<<<{2} & \\gate{\\mathrm{R_X}\\,(\\mathrm{{\\ensuremath{\\theta}}2})} & \\gate{\\mathrm{R_Z}\\,(\\mathrm{{\\ensuremath{\\theta}}5})} & \\gate{\\mathrm{R_X}\\,(\\mathrm{{\\ensuremath{\\theta}}8})} & \\ghost{\\mathrm{Unitary}}_<<<{2} & \\gate{\\mathrm{R_X}\\,(\\mathrm{{\\ensuremath{\\theta}}2})} & \\gate{\\mathrm{R_Z}\\,(\\mathrm{{\\ensuremath{\\theta}}5})} & \\gate{\\mathrm{R_X}\\,(\\mathrm{{\\ensuremath{\\theta}}8})} & \\ghost{\\mathrm{Unitary}}_<<<{2} & \\gate{\\mathrm{R_X}\\,(\\mathrm{{\\ensuremath{\\theta}}2})} & \\gate{\\mathrm{R_Z}\\,(\\mathrm{{\\ensuremath{\\theta}}5})} & \\gate{\\mathrm{R_X}\\,(\\mathrm{{\\ensuremath{\\theta}}8})} & \\qw & \\qw & \\qw & \\qw\\\\\n",
      "\t \t\\nghost{\\mathrm{{c} :  }} & \\lstick{\\mathrm{{c} :  }} & \\lstick{/_{_{1}}} \\cw & \\cw & \\cw & \\cw & \\cw & \\cw & \\cw & \\cw & \\cw & \\cw & \\cw & \\cw & \\cw & \\cw & \\cw & \\cw & \\dstick{_{_{\\hspace{0.0em}0}}} \\cw \\ar @{<=} [-3,0] & \\cw & \\cw\\\\\n",
      "\\\\ }}\n",
      "\\end{document}\n"
     ]
    },
    {
     "name": "stderr",
     "output_type": "stream",
     "text": [
      "c:\\Python310\\lib\\site-packages\\qiskit\\visualization\\circuit\\latex.py:154: FutureWarning: The default matplotlib drawer scheme will be changed to \"iqp\" in a following release. To silence this warning, specify the current default explicitly as style=\"clifford\", or the new default as style=\"iqp\".\n",
      "  self._style, _ = load_style(style)\n"
     ]
    }
   ],
   "source": [
    "qc_draw = QuantumCircuit(nqubits,1)\n",
    "\n",
    "angle_y = Parameter('arcsin(x)')\n",
    "angle_z = Parameter('arccos(x^2)')\n",
    "for i in range(nqubits):\n",
    "        qc_draw.ry(angle_y, i)\n",
    "        qc_draw.rz(angle_z, i)\n",
    "\n",
    "qc_draw.barrier()\n",
    "\n",
    "for c in range(train_depth):\n",
    "        qc_draw.compose(evolve, inplace=True)\n",
    "        qc_draw.compose(U_rot, inplace=True)\n",
    "\n",
    "qc_draw.barrier()\n",
    "\n",
    "qc_draw.measure(0,0)\n",
    "\n",
    "print(qc_draw.draw('latex_source'))"
   ]
  }
 ],
 "metadata": {
  "kernelspec": {
   "display_name": "Python 3",
   "language": "python",
   "name": "python3"
  },
  "language_info": {
   "codemirror_mode": {
    "name": "ipython",
    "version": 3
   },
   "file_extension": ".py",
   "mimetype": "text/x-python",
   "name": "python",
   "nbconvert_exporter": "python",
   "pygments_lexer": "ipython3",
   "version": "3.10.4"
  }
 },
 "nbformat": 4,
 "nbformat_minor": 2
}
