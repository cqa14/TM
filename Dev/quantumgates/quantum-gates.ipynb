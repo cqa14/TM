{
 "cells": [
  {
   "cell_type": "code",
   "execution_count": 1,
   "metadata": {
    "collapsed": true,
    "ExecuteTime": {
     "end_time": "2023-06-17T13:27:28.109270600Z",
     "start_time": "2023-06-17T13:27:27.396638400Z"
    }
   },
   "outputs": [],
   "source": [
    "from qiskit import *"
   ]
  },
  {
   "cell_type": "code",
   "execution_count": 2,
   "outputs": [
    {
     "name": "stdout",
     "output_type": "stream",
     "text": [
      "\\documentclass[border=2px]{standalone}\n",
      "\n",
      "\\usepackage[braket, qm]{qcircuit}\n",
      "\\usepackage{graphicx}\n",
      "\n",
      "\\begin{document}\n",
      "\\scalebox{1.0}{\n",
      "\\Qcircuit @C=1.0em @R=1.0em @!R { \\\\\n",
      "\t \t\\nghost{{psi} :  } & \\lstick{{psi} :  } & \\qw & \\qw\\\\\n",
      "\\\\ }}\n",
      "\\end{document}\n"
     ]
    }
   ],
   "source": [
    "qr = QuantumRegister(1, r'psi')\n",
    "qc = QuantumCircuit(qr)\n",
    "print(qc.draw(output='latex_source'))"
   ],
   "metadata": {
    "collapsed": false,
    "ExecuteTime": {
     "end_time": "2023-06-17T13:27:28.167732600Z",
     "start_time": "2023-06-17T13:27:28.109270600Z"
    }
   }
  },
  {
   "cell_type": "code",
   "execution_count": 3,
   "outputs": [
    {
     "name": "stdout",
     "output_type": "stream",
     "text": [
      "\\documentclass[border=2px]{standalone}\n",
      "\n",
      "\\usepackage[braket, qm]{qcircuit}\n",
      "\\usepackage{graphicx}\n",
      "\n",
      "\\begin{document}\n",
      "\\scalebox{1.0}{\n",
      "\\Qcircuit @C=1.0em @R=0.2em @!R { \\\\\n",
      "\t \t\\nghost{{psi} :  } & \\lstick{{psi} :  } & \\gate{\\mathrm{X}} & \\qw & \\qw\\\\\n",
      "\\\\ }}\n",
      "\\end{document}\n"
     ]
    }
   ],
   "source": [
    "qr = QuantumRegister(1, r'psi')\n",
    "qc = QuantumCircuit(qr)\n",
    "qc.x(qr[0])\n",
    "print(qc.draw(output='latex_source'))"
   ],
   "metadata": {
    "collapsed": false,
    "ExecuteTime": {
     "end_time": "2023-06-17T13:27:28.185277Z",
     "start_time": "2023-06-17T13:27:28.140254300Z"
    }
   }
  },
  {
   "cell_type": "code",
   "execution_count": 4,
   "outputs": [
    {
     "name": "stdout",
     "output_type": "stream",
     "text": [
      "\\documentclass[border=2px]{standalone}\n",
      "\n",
      "\\usepackage[braket, qm]{qcircuit}\n",
      "\\usepackage{graphicx}\n",
      "\n",
      "\\begin{document}\n",
      "\\scalebox{1.0}{\n",
      "\\Qcircuit @C=1.0em @R=0.2em @!R { \\\\\n",
      "\t \t\\nghost{{q0} :  } & \\lstick{{q0} :  } & \\gate{\\mathrm{H}} & \\meter & \\qw & \\qw\\\\\n",
      "\t \t\\nghost{\\mathrm{{c0} :  }} & \\lstick{\\mathrm{{c0} :  }} & \\lstick{/_{_{1}}} \\cw & \\dstick{_{_{\\hspace{0.0em}0}}} \\cw \\ar @{<=} [-1,0] & \\cw & \\cw\\\\\n",
      "\\\\ }}\n",
      "\\end{document}\n"
     ]
    }
   ],
   "source": [
    "qr = QuantumRegister(1)\n",
    "cr = ClassicalRegister(1)\n",
    "qc = QuantumCircuit(qr, cr)\n",
    "qc.h(qr[0])\n",
    "qc.measure(qr, cr)\n",
    "print(qc.draw(output='latex_source'))"
   ],
   "metadata": {
    "collapsed": false,
    "ExecuteTime": {
     "end_time": "2023-06-17T13:27:28.229733400Z",
     "start_time": "2023-06-17T13:27:28.187231500Z"
    }
   }
  },
  {
   "cell_type": "code",
   "execution_count": 5,
   "outputs": [
    {
     "name": "stderr",
     "output_type": "stream",
     "text": [
      "C:\\Users\\romai\\AppData\\Local\\Temp\\ipykernel_11624\\2549972265.py:4: DeprecationWarning: The qiskit.IBMQ entrypoint and the qiskit-ibmq-provider package (accessible from 'qiskit.providers.ibmq`) are deprecated and will be removed in a future release. Instead you should use the qiskit-ibm-provider package which is accessible from 'qiskit_ibm_provider'. You can install it with 'pip install qiskit_ibm_provider'. Just replace 'qiskit.IBMQ' with 'qiskit_ibm_provider.IBMProvider'\n",
      "  provider = IBMQ.load_account()\n"
     ]
    }
   ],
   "source": [
    "from qiskit import IBMQ\n",
    "from qiskit.providers.ibmq import least_busy\n",
    "\n",
    "provider = IBMQ.load_account()\n",
    "device = least_busy(\n",
    "    provider.backends(\n",
    "        filters=lambda x: x.configuration().n_qubits >= 1\n",
    "                          and not x.configuration().simulator                # Not a simulator\n",
    "                          and x.status().operational == True                 # Operational backend\n",
    "    )\n",
    ")"
   ],
   "metadata": {
    "collapsed": false,
    "ExecuteTime": {
     "end_time": "2023-06-17T13:27:40.903318600Z",
     "start_time": "2023-06-17T13:27:28.201234700Z"
    }
   }
  },
  {
   "cell_type": "code",
   "execution_count": 6,
   "outputs": [
    {
     "name": "stdout",
     "output_type": "stream",
     "text": [
      "ibmq_qasm_simulator\n",
      "Job Status: job has successfully run\n",
      "{'1': 1949, '0': 2051}\n"
     ]
    }
   ],
   "source": [
    "from qiskit.tools import job_monitor\n",
    "\n",
    "# Select a backend.\n",
    "backend = provider.get_backend(\"ibmq_qasm_simulator\")\n",
    "print(backend)\n",
    "\n",
    "# Transpile the circuit\n",
    "transpiled = transpile(qc, backend=backend)\n",
    "\n",
    "# Submit a job.\n",
    "job = backend.run(transpiled)\n",
    "job_monitor(job)\n",
    "# Get results.\n",
    "print(job.result().get_counts())"
   ],
   "metadata": {
    "collapsed": false,
    "ExecuteTime": {
     "end_time": "2023-06-17T13:27:58.203406Z",
     "start_time": "2023-06-17T13:27:40.905094500Z"
    }
   }
  },
  {
   "cell_type": "code",
   "execution_count": 7,
   "outputs": [],
   "source": [
    "# using tikzplotlib to export plot to latex\n",
    "import tikzplotlib\n",
    "import matplotlib.pyplot as plt\n",
    "\n",
    "def tikzplotlib_fix_ncols(obj):\n",
    "    \"\"\"\n",
    "    workaround for matplotlib 3.6 renamed legend's _ncol to _ncols, which breaks tikzplotlib\n",
    "    \"\"\"\n",
    "    if hasattr(obj, \"_ncols\"):\n",
    "        obj._ncol = obj._ncols\n",
    "    for child in obj.get_children():\n",
    "        tikzplotlib_fix_ncols(child)\n",
    "\n",
    "def save_fig(name, width='10cm', height='10cm'):\n",
    "    fig = plt.gcf()\n",
    "    tikzplotlib_fix_ncols(fig)\n",
    "\n",
    "    tikzplotlib.clean_figure()\n",
    "    tikzplotlib.save(name + '.tex', axis_width=width, axis_height=height)"
   ],
   "metadata": {
    "collapsed": false,
    "ExecuteTime": {
     "end_time": "2023-06-17T13:27:58.573468900Z",
     "start_time": "2023-06-17T13:27:58.204409800Z"
    }
   }
  },
  {
   "cell_type": "code",
   "execution_count": 8,
   "outputs": [
    {
     "name": "stderr",
     "output_type": "stream",
     "text": [
      "C:\\Users\\romai\\AppData\\Roaming\\Python\\Python310\\site-packages\\tikzplotlib\\_cleanfigure.py:200: UserWarning: Cleaning Bar Container (bar plot) is not supported yet.\n",
      "  warnings.warn(\"Cleaning Bar Container (bar plot) is not supported yet.\")\n"
     ]
    },
    {
     "data": {
      "text/plain": "<Figure size 640x480 with 1 Axes>",
      "image/png": "[encoded data removed]"
     },
     "metadata": {},
     "output_type": "display_data"
    }
   ],
   "source": [
    "counts = job.result().get_counts()\n",
    "plt.bar(counts.keys(), counts.values())\n",
    "save_fig('real-mes-supp')"
   ],
   "metadata": {
    "collapsed": false,
    "ExecuteTime": {
     "end_time": "2023-06-17T13:27:58.729143Z",
     "start_time": "2023-06-17T13:27:58.573468900Z"
    }
   }
  },
  {
   "cell_type": "code",
   "execution_count": 11,
   "outputs": [
    {
     "name": "stdout",
     "output_type": "stream",
     "text": [
      "fake_vigo\n",
      "Job Status: job has successfully run\n",
      "{'1': 514, '0': 510}\n"
     ]
    }
   ],
   "source": [
    "from qiskit.providers.fake_provider import FakeVigo\n",
    "backend = FakeVigo()\n",
    "print(backend)\n",
    "\n",
    "# Transpile the circuit\n",
    "transpiled = transpile(qc, backend=backend)\n",
    "\n",
    "# Submit a job.\n",
    "job = backend.run(transpiled)\n",
    "job_monitor(job)\n",
    "# Get results.\n",
    "print(job.result().get_counts())"
   ],
   "metadata": {
    "collapsed": false,
    "ExecuteTime": {
     "end_time": "2023-06-17T13:30:48.929477900Z",
     "start_time": "2023-06-17T13:30:43.665952700Z"
    }
   }
  }
 ],
 "metadata": {
  "kernelspec": {
   "display_name": "Python 3",
   "language": "python",
   "name": "python3"
  },
  "language_info": {
   "codemirror_mode": {
    "name": "ipython",
    "version": 2
   },
   "file_extension": ".py",
   "mimetype": "text/x-python",
   "name": "python",
   "nbconvert_exporter": "python",
   "pygments_lexer": "ipython2",
   "version": "2.7.6"
  }
 },
 "nbformat": 4,
 "nbformat_minor": 0
}
