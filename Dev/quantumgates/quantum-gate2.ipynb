{
 "cells": [
  {
   "cell_type": "code",
   "execution_count": 1,
   "metadata": {
    "collapsed": true,
    "ExecuteTime": {
     "end_time": "2023-06-18T12:51:41.002543200Z",
     "start_time": "2023-06-18T12:51:39.740382700Z"
    }
   },
   "outputs": [],
   "source": [
    "from qiskit import *"
   ]
  },
  {
   "cell_type": "code",
   "execution_count": 3,
   "outputs": [
    {
     "name": "stdout",
     "output_type": "stream",
     "text": [
      "\\documentclass[border=2px]{standalone}\n",
      "\n",
      "\\usepackage[braket, qm]{qcircuit}\n",
      "\\usepackage{graphicx}\n",
      "\n",
      "\\begin{document}\n",
      "\\scalebox{1.0}{\n",
      "\\Qcircuit @C=1.0em @R=0.8em @!R { \\\\\n",
      "\t \t\\nghost{{q1}_{0} :  } & \\lstick{{q1}_{0} :  } & \\ctrl{1} & \\qw & \\qw\\\\\n",
      "\t \t\\nghost{{q1}_{1} :  } & \\lstick{{q1}_{1} :  } & \\targ & \\qw & \\qw\\\\\n",
      "\\\\ }}\n",
      "\\end{document}\n"
     ]
    }
   ],
   "source": [
    "qr = QuantumRegister(2)\n",
    "qc = QuantumCircuit(qr)\n",
    "qc.cnot(qr[0], qr[1])\n",
    "print(qc.draw(output='latex_source'))"
   ],
   "metadata": {
    "collapsed": false,
    "ExecuteTime": {
     "end_time": "2023-06-18T12:52:25.362631500Z",
     "start_time": "2023-06-18T12:52:25.357126200Z"
    }
   }
  },
  {
   "cell_type": "code",
   "execution_count": 4,
   "outputs": [
    {
     "name": "stdout",
     "output_type": "stream",
     "text": [
      "\\documentclass[border=2px]{standalone}\n",
      "\n",
      "\\usepackage[braket, qm]{qcircuit}\n",
      "\\usepackage{graphicx}\n",
      "\n",
      "\\begin{document}\n",
      "\\scalebox{1.0}{\n",
      "\\Qcircuit @C=1.0em @R=0.2em @!R { \\\\\n",
      "\t \t\\nghost{{q2}_{0} :  } & \\lstick{{q2}_{0} :  } & \\ctrl{1} & \\qw & \\qw\\\\\n",
      "\t \t\\nghost{{q2}_{1} :  } & \\lstick{{q2}_{1} :  } & \\control\\qw & \\qw & \\qw\\\\\n",
      "\\\\ }}\n",
      "\\end{document}\n"
     ]
    }
   ],
   "source": [
    "qr = QuantumRegister(2)\n",
    "qc = QuantumCircuit(qr)\n",
    "qc.cz(qr[0], qr[1])\n",
    "print(qc.draw(output='latex_source'))"
   ],
   "metadata": {
    "collapsed": false,
    "ExecuteTime": {
     "end_time": "2023-06-18T13:46:01.225340300Z",
     "start_time": "2023-06-18T13:46:01.212140900Z"
    }
   }
  },
  {
   "cell_type": "code",
   "execution_count": 5,
   "outputs": [
    {
     "name": "stdout",
     "output_type": "stream",
     "text": [
      "\\documentclass[border=2px]{standalone}\n",
      "\n",
      "\\usepackage[braket, qm]{qcircuit}\n",
      "\\usepackage{graphicx}\n",
      "\n",
      "\\begin{document}\n",
      "\\scalebox{1.0}{\n",
      "\\Qcircuit @C=1.0em @R=0.8em @!R { \\\\\n",
      "\t \t\\nghost{{q3}_{0} :  } & \\lstick{{q3}_{0} :  } & \\ctrl{1} & \\qw & \\qw\\\\\n",
      "\t \t\\nghost{{q3}_{1} :  } & \\lstick{{q3}_{1} :  } & \\ctrl{1} & \\qw & \\qw\\\\\n",
      "\t \t\\nghost{{q3}_{2} :  } & \\lstick{{q3}_{2} :  } & \\targ & \\qw & \\qw\\\\\n",
      "\\\\ }}\n",
      "\\end{document}\n"
     ]
    }
   ],
   "source": [
    "qr = QuantumRegister(3)\n",
    "qc = QuantumCircuit(qr)\n",
    "qc.ccx(qr[0], qr[1], qr[2])\n",
    "print(qc.draw(output='latex_source'))"
   ],
   "metadata": {
    "collapsed": false,
    "ExecuteTime": {
     "end_time": "2023-06-18T14:10:52.362723700Z",
     "start_time": "2023-06-18T14:10:52.360316400Z"
    }
   }
  },
  {
   "cell_type": "code",
   "execution_count": 6,
   "outputs": [
    {
     "name": "stdout",
     "output_type": "stream",
     "text": [
      "\\documentclass[border=2px]{standalone}\n",
      "\n",
      "\\usepackage[braket, qm]{qcircuit}\n",
      "\\usepackage{graphicx}\n",
      "\n",
      "\\begin{document}\n",
      "\\scalebox{1.0}{\n",
      "\\Qcircuit @C=1.0em @R=0.2em @!R { \\\\\n",
      "\t \t\\nghost{{q4}_{0} :  } & \\lstick{{q4}_{0} :  } & \\gate{\\mathrm{H}} & \\ctrl{1} & \\qw & \\qw\\\\\n",
      "\t \t\\nghost{{q4}_{1} :  } & \\lstick{{q4}_{1} :  } & \\qw & \\targ & \\qw & \\qw\\\\\n",
      "\\\\ }}\n",
      "\\end{document}\n"
     ]
    }
   ],
   "source": [
    "qr = QuantumRegister(2)\n",
    "qc = QuantumCircuit(qr)\n",
    "qc.h(qr[0])\n",
    "qc.cx(qr[0], qr[1])\n",
    "print(qc.draw(output='latex_source'))"
   ],
   "metadata": {
    "collapsed": false,
    "ExecuteTime": {
     "end_time": "2023-06-18T14:38:43.981971400Z",
     "start_time": "2023-06-18T14:38:43.930479800Z"
    }
   }
  }
 ],
 "metadata": {
  "kernelspec": {
   "display_name": "Python 3",
   "language": "python",
   "name": "python3"
  },
  "language_info": {
   "codemirror_mode": {
    "name": "ipython",
    "version": 2
   },
   "file_extension": ".py",
   "mimetype": "text/x-python",
   "name": "python",
   "nbconvert_exporter": "python",
   "pygments_lexer": "ipython2",
   "version": "2.7.6"
  }
 },
 "nbformat": 4,
 "nbformat_minor": 0
}
