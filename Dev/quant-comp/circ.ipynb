{
 "cells": [
  {
   "cell_type": "code",
   "execution_count": 1,
   "metadata": {
    "collapsed": true,
    "ExecuteTime": {
     "end_time": "2023-06-21T16:21:03.768135900Z",
     "start_time": "2023-06-21T16:20:55.871938900Z"
    }
   },
   "outputs": [],
   "source": [
    "from qiskit import *\n",
    "from qiskit.tools import job_monitor\n",
    "from qiskit.providers.ibmq import IBMQ\n",
    "from qiskit.providers.aer import AerSimulator\n",
    "from qiskit.visualization import plot_histogram\n",
    "\n",
    "# get a real backend from a real provider\n",
    "provider = IBMQ.load_account()\n",
    "backend = provider.get_backend('ibmq_manila')\n",
    "\n",
    "# generate a simulator that mimics the real quantum system with the latest calibration results\n",
    "backend_sim = AerSimulator.from_backend(backend)\n",
    "\n",
    "aer_sim = Aer.get_backend('aer_simulator')\n",
    "\n",
    "# using tikzplotlib to export plot to latex\n",
    "import tikzplotlib\n",
    "import matplotlib.pyplot as plt\n",
    "\n",
    "def tikzplotlib_fix_ncols(obj):\n",
    "    \"\"\"\n",
    "    workaround for matplotlib 3.6 renamed legend's _ncol to _ncols, which breaks tikzplotlib\n",
    "    \"\"\"\n",
    "    if hasattr(obj, \"_ncols\"):\n",
    "        obj._ncol = obj._ncols\n",
    "    for child in obj.get_children():\n",
    "        tikzplotlib_fix_ncols(child)\n",
    "\n",
    "def save_fig(name, width='10cm', height='10cm'):\n",
    "    fig = plt.gcf()\n",
    "    tikzplotlib_fix_ncols(fig)\n",
    "\n",
    "    tikzplotlib.clean_figure()\n",
    "    tikzplotlib.save(name + '.tex', axis_width=width, axis_height=height)"
   ]
  },
  {
   "cell_type": "code",
   "execution_count": 3,
   "outputs": [
    {
     "name": "stdout",
     "output_type": "stream",
     "text": [
      "\\documentclass[border=2px]{standalone}\n",
      "\n",
      "\\usepackage[braket, qm]{qcircuit}\n",
      "\\usepackage{graphicx}\n",
      "\n",
      "\\begin{document}\n",
      "\\scalebox{1.0}{\n",
      "\\Qcircuit @C=1.0em @R=0.2em @!R { \\\\\n",
      "\t \t\\nghost{{q}_{0} :  } & \\lstick{{q}_{0} :  } & \\ctrl{1} & \\qw & \\qw\\\\\n",
      "\t \t\\nghost{{q}_{1} :  } & \\lstick{{q}_{1} :  } & \\gate{\\mathrm{H}} & \\qw & \\qw\\\\\n",
      "\\\\ }}\n",
      "\\end{document}\n"
     ]
    }
   ],
   "source": [
    "qc = QuantumCircuit(2)\n",
    "\n",
    "qc.ch(0, 1)\n",
    "\n",
    "print(qc.draw('latex_source'))"
   ],
   "metadata": {
    "collapsed": false,
    "ExecuteTime": {
     "end_time": "2023-06-21T16:23:04.400580700Z",
     "start_time": "2023-06-21T16:23:04.395076100Z"
    }
   }
  },
  {
   "cell_type": "code",
   "execution_count": 4,
   "outputs": [
    {
     "name": "stdout",
     "output_type": "stream",
     "text": [
      "\\documentclass[border=2px]{standalone}\n",
      "\n",
      "\\usepackage[braket, qm]{qcircuit}\n",
      "\\usepackage{graphicx}\n",
      "\n",
      "\\begin{document}\n",
      "\\scalebox{1.0}{\n",
      "\\Qcircuit @C=1.0em @R=0.2em @!R { \\\\\n",
      "\t \t\\nghost{{q}_{0} :  } & \\lstick{{q}_{0} :  } & \\qw & \\ctrl{1} & \\qw & \\ctrl{1} & \\gate{\\mathrm{I}} & \\qw & \\qw\\\\\n",
      "\t \t\\nghost{{q}_{1} :  } & \\lstick{{q}_{1} :  } & \\gate{\\mathrm{I}} & \\targ & \\gate{\\mathrm{I}} & \\targ & \\gate{\\mathrm{I}} & \\qw & \\qw\\\\\n",
      "\\\\ }}\n",
      "\\end{document}\n"
     ]
    }
   ],
   "source": [
    "qc = QuantumCircuit(2)\n",
    "\n",
    "qc.id(1)\n",
    "qc.cx(0, 1)\n",
    "qc.id(1)\n",
    "qc.cx(0, 1)\n",
    "qc.id(1)\n",
    "qc.id(0)\n",
    "\n",
    "print(qc.draw('latex_source'))"
   ],
   "metadata": {
    "collapsed": false,
    "ExecuteTime": {
     "end_time": "2023-06-21T16:25:34.579190900Z",
     "start_time": "2023-06-21T16:25:34.575095900Z"
    }
   }
  }
 ],
 "metadata": {
  "kernelspec": {
   "display_name": "Python 3",
   "language": "python",
   "name": "python3"
  },
  "language_info": {
   "codemirror_mode": {
    "name": "ipython",
    "version": 2
   },
   "file_extension": ".py",
   "mimetype": "text/x-python",
   "name": "python",
   "nbconvert_exporter": "python",
   "pygments_lexer": "ipython2",
   "version": "2.7.6"
  }
 },
 "nbformat": 4,
 "nbformat_minor": 0
}
