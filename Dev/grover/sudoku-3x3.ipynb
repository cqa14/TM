{
 "cells": [
  {
   "cell_type": "code",
   "execution_count": 1,
   "id": "initial_id",
   "metadata": {
    "collapsed": true,
    "ExecuteTime": {
     "end_time": "2023-08-27T08:07:56.799439200Z",
     "start_time": "2023-08-27T08:07:53.007818Z"
    }
   },
   "outputs": [],
   "source": [
    "from qiskit import *\n",
    "from qiskit.visualization import *\n",
    "from qiskit.circuit.library import MCMT\n",
    "\n",
    "from qiskit.visualization import plot_histogram\n",
    "from qiskit.circuit.library import QFT\n",
    "\n",
    "import numpy as np\n",
    "import matplotlib.pyplot as plt\n",
    "import math\n",
    "\n",
    "sim = Aer.get_backend('qasm_simulator')\n",
    "\n",
    "# using tikzplotlib to export plot to latex\n",
    "import tikzplotlib\n",
    "\n",
    "def tikzplotlib_fix_ncols(obj):\n",
    "    \"\"\"\n",
    "    workaround for matplotlib 3.6 renamed legend's _ncol to _ncols, which breaks tikzplotlib\n",
    "    \"\"\"\n",
    "    if hasattr(obj, \"_ncols\"):\n",
    "        obj._ncol = obj._ncols\n",
    "    for child in obj.get_children():\n",
    "        tikzplotlib_fix_ncols(child)\n",
    "\n",
    "def save_fig(name, width='10cm', height='10cm'):\n",
    "    fig = plt.gcf()\n",
    "    tikzplotlib_fix_ncols(fig)\n",
    "\n",
    "    tikzplotlib.clean_figure()\n",
    "    tikzplotlib.save(name + '.tex', axis_width=width, axis_height=height)"
   ]
  },
  {
   "cell_type": "code",
   "execution_count": 2,
   "outputs": [],
   "source": [
    "sudoku = [[0,0,0],\n",
    "          [0,0,0],\n",
    "          [0,0,0]]"
   ],
   "metadata": {
    "collapsed": false,
    "ExecuteTime": {
     "end_time": "2023-08-27T08:07:56.799940100Z",
     "start_time": "2023-08-27T08:07:55.968207500Z"
    }
   },
   "id": "eee6fadca1b74055"
  },
  {
   "cell_type": "code",
   "execution_count": 3,
   "outputs": [],
   "source": [
    "register_input = [[0,0,0],[0,0,0],[0,0,0]]\n",
    "for i in range(len(sudoku)):\n",
    "    for j in range(len(sudoku[i])):\n",
    "        register_input[i][j] = QuantumRegister(2, 'q'+str(i)+str(j))\n",
    "        \n",
    "cond_bits = QuantumRegister(36, 'cond')\n",
    "fin_cond = QuantumRegister(18, 'fin_cond')\n",
    "out_cond = QuantumRegister(1, 'out_cond')\n",
    "cr = ClassicalRegister(18, 'cr')"
   ],
   "metadata": {
    "collapsed": false,
    "ExecuteTime": {
     "end_time": "2023-08-27T08:07:56.799940100Z",
     "start_time": "2023-08-27T08:07:55.981732800Z"
    }
   },
   "id": "e9cafc2dee275587"
  },
  {
   "cell_type": "code",
   "execution_count": 4,
   "outputs": [],
   "source": [
    "num_it = int(np.floor(np.pi / 4 * np.sqrt(2**18 / 21)))"
   ],
   "metadata": {
    "collapsed": false,
    "ExecuteTime": {
     "end_time": "2023-08-27T08:07:56.799940100Z",
     "start_time": "2023-08-27T08:07:55.999224900Z"
    }
   },
   "id": "f98aef711a9815a8"
  },
  {
   "cell_type": "code",
   "execution_count": 5,
   "outputs": [
    {
     "name": "stdout",
     "output_type": "stream",
     "text": [
      "circuit done\n"
     ]
    }
   ],
   "source": [
    "qc = QuantumCircuit(*register_input[0], *register_input[1], *register_input[2], cond_bits, fin_cond, out_cond, cr)\n",
    "\n",
    "for i in range(len(sudoku)):\n",
    "    for j in range(len(sudoku[i])):\n",
    "        if sudoku[i][j] == 0:\n",
    "            qc.h(register_input[i][j])\n",
    "        if sudoku[i][j] == 1:\n",
    "            qc.x(register_input[i][j][0])    \n",
    "        if sudoku[i][j] == 2:\n",
    "            qc.x(register_input[i][j][1])\n",
    "        if sudoku[i][j] == 3:\n",
    "            qc.x(register_input[i][j][0:1])\n",
    "            \n",
    "qc.x(out_cond)\n",
    "qc.h(out_cond)\n",
    "\n",
    "qc.barrier()\n",
    "\n",
    "def cond_verif():\n",
    "    cond_act = 0\n",
    "    for k in range(len(register_input)):\n",
    "        qc.cx(register_input[k][0][0], cond_bits[cond_act])\n",
    "        qc.cx(register_input[k][0][1], cond_bits[cond_act + 1])\n",
    "        qc.cx(register_input[k][1][0], cond_bits[cond_act])\n",
    "        qc.cx(register_input[k][1][1], cond_bits[cond_act + 1])\n",
    "        cond_act += 2\n",
    "        qc.cx(register_input[k][0][0], cond_bits[cond_act])\n",
    "        qc.cx(register_input[k][0][1], cond_bits[cond_act + 1])\n",
    "        qc.cx(register_input[k][2][0], cond_bits[cond_act])\n",
    "        qc.cx(register_input[k][2][1], cond_bits[cond_act + 1])\n",
    "        cond_act += 2\n",
    "        qc.cx(register_input[k][1][0], cond_bits[cond_act])\n",
    "        qc.cx(register_input[k][1][1], cond_bits[cond_act + 1])\n",
    "        qc.cx(register_input[k][2][0], cond_bits[cond_act])\n",
    "        qc.cx(register_input[k][2][1], cond_bits[cond_act + 1])\n",
    "        cond_act += 2\n",
    "    \n",
    "    for k in range(len(register_input)):\n",
    "        qc.cx(register_input[0][k][0], cond_bits[cond_act])\n",
    "        qc.cx(register_input[0][k][1], cond_bits[cond_act + 1])\n",
    "        qc.cx(register_input[1][k][0], cond_bits[cond_act])\n",
    "        qc.cx(register_input[1][k][1], cond_bits[cond_act + 1])\n",
    "        cond_act += 2\n",
    "        qc.cx(register_input[0][k][0], cond_bits[cond_act])\n",
    "        qc.cx(register_input[0][k][1], cond_bits[cond_act + 1])\n",
    "        qc.cx(register_input[2][k][0], cond_bits[cond_act])\n",
    "        qc.cx(register_input[2][k][1], cond_bits[cond_act + 1])\n",
    "        cond_act += 2\n",
    "        qc.cx(register_input[1][k][0], cond_bits[cond_act])\n",
    "        qc.cx(register_input[1][k][1], cond_bits[cond_act + 1])\n",
    "        qc.cx(register_input[2][k][0], cond_bits[cond_act])\n",
    "        qc.cx(register_input[2][k][1], cond_bits[cond_act + 1])\n",
    "        cond_act += 2\n",
    "        \n",
    "    \n",
    "    for k in range(len(fin_cond)):\n",
    "        qc.cx(cond_bits[2 * k], fin_cond[k])\n",
    "        qc.cx(cond_bits[2 * k + 1], fin_cond[k])\n",
    "\n",
    "def oracle():\n",
    "    cond_verif()\n",
    "    qc.mct(fin_cond, out_cond)\n",
    "    cond_verif()\n",
    "    \n",
    "def diffuser():\n",
    "    for k in range(len(sudoku)):\n",
    "        for l in range(len(sudoku[k])):\n",
    "            if sudoku[k][l] == 0:\n",
    "                qc.h(register_input[k][l])\n",
    "            if sudoku[k][l] == 1:\n",
    "                qc.x(register_input[k][l][0])\n",
    "            if sudoku[k][l] == 2:\n",
    "                qc.x(register_input[k][l][1])\n",
    "            if sudoku[k][l] == 3:\n",
    "                qc.x(register_input[k][l][0:1])\n",
    "\n",
    "            qc.x(register_input[k][l][0:1])\n",
    "            \n",
    "    qc.h(register_input[0][0][0])\n",
    "    qc.mct([register_input[0][0][1], *register_input[0][1], *register_input[0][2], *register_input[1][0], *register_input[1][1], *register_input[1][2], *register_input[2][0], *register_input[2][1], *register_input[2][2]], register_input[0][0][0])\n",
    "    qc.h(register_input[0][0][0])\n",
    "    \n",
    "    for k in range(len(sudoku)):\n",
    "        for l in range(len(sudoku[k])):\n",
    "            qc.x(register_input[k][l][0:1])\n",
    "            \n",
    "            if sudoku[k][l] == 0:\n",
    "                qc.h(register_input[k][l])\n",
    "            if sudoku[k][l] == 1:\n",
    "                qc.x(register_input[k][l][0])\n",
    "            if sudoku[k][l] == 2:\n",
    "                qc.x(register_input[k][l][1])\n",
    "            if sudoku[k][l] == 3:\n",
    "                qc.x(register_input[k][l][0:1])      \n",
    " \n",
    "\n",
    "for _ in range(num_it):\n",
    "    oracle()\n",
    "    diffuser()\n",
    "    qc.barrier()\n",
    "     \n",
    "measure_i = 0\n",
    "for i in range(len(register_input)):\n",
    "    for j in range(len(register_input[i])):\n",
    "        for h in range(2):\n",
    "            qc.measure(register_input[i][j][h], cr[measure_i])\n",
    "            measure_i += 1\n",
    "            \n",
    "print('circuit done')"
   ],
   "metadata": {
    "collapsed": false,
    "ExecuteTime": {
     "end_time": "2023-08-27T08:07:56.800440500Z",
     "start_time": "2023-08-27T08:07:56.012762Z"
    }
   },
   "id": "1c873a5d851b1e48"
  },
  {
   "cell_type": "code",
   "execution_count": 6,
   "outputs": [
    {
     "name": "stderr",
     "output_type": "stream",
     "text": [
      "C:\\Users\\romai\\AppData\\Local\\Temp\\ipykernel_10428\\3157583564.py:4: DeprecationWarning: The package qiskit.providers.ibmq is being deprecated. Please see https://ibm.biz/provider_migration_guide to get instructions on how to migrate to qiskit-ibm-provider (https://github.com/Qiskit/qiskit-ibm-provider) and qiskit-ibm-runtime (https://github.com/Qiskit/qiskit-ibm-runtime).\n",
      "  IBMQ.load_account() # Load account from disk\n",
      "C:\\Users\\romai\\AppData\\Local\\Temp\\ipykernel_10428\\3157583564.py:4: DeprecationWarning: The qiskit.IBMQ entrypoint and the qiskit-ibmq-provider package (accessible from 'qiskit.providers.ibmq`) are deprecated and will be removed in a future release. Instead you should use the qiskit-ibm-provider package which is accessible from 'qiskit_ibm_provider'. You can install it with 'pip install qiskit_ibm_provider'. Just replace 'qiskit.IBMQ' with 'qiskit_ibm_provider.IBMProvider'\n",
      "  IBMQ.load_account() # Load account from disk\n"
     ]
    }
   ],
   "source": [
    "from qiskit import IBMQ\n",
    "\n",
    "# IBMQ.save_account(TOKEN)\n",
    "IBMQ.load_account() # Load account from disk\n",
    "IBMQ.providers()    # List all available providers\n",
    "\n",
    "provider = IBMQ.get_provider(hub='ibm-q')\n",
    "provider.backends()\n",
    "\n",
    "backend = provider.get_backend('simulator_mps')"
   ],
   "metadata": {
    "collapsed": false,
    "ExecuteTime": {
     "end_time": "2023-08-27T08:08:01.221804900Z",
     "start_time": "2023-08-27T08:07:56.588274100Z"
    }
   },
   "id": "7bf4a46559d06d56"
  },
  {
   "cell_type": "code",
   "execution_count": null,
   "outputs": [
    {
     "name": "stdout",
     "output_type": "stream",
     "text": [
      "debut\n"
     ]
    }
   ],
   "source": [
    "print('debut')\n",
    "results = execute(qc, backend=backend, shots=4).result()\n",
    "print('execute done')\n",
    "counts = results.get_counts()\n",
    "plot_histogram(counts)"
   ],
   "metadata": {
    "collapsed": false,
    "is_executing": true,
    "ExecuteTime": {
     "start_time": "2023-08-27T08:08:01.221804900Z"
    }
   },
   "id": "83584b9f07310147"
  },
  {
   "cell_type": "code",
   "execution_count": null,
   "outputs": [],
   "source": [
    "with open('out.txt', 'w+') as f:\n",
    "    print(counts, file=f)\n",
    "\n",
    "plt.figure(figsize=(10, 10))\n",
    "plt.barh(list(counts.keys()), list(counts.values()))\n",
    "save_fig('sudoku_result')"
   ],
   "metadata": {
    "collapsed": false,
    "is_executing": true
   },
   "id": "fb77752c1d5d7a86"
  }
 ],
 "metadata": {
  "kernelspec": {
   "display_name": "Python 3",
   "language": "python",
   "name": "python3"
  },
  "language_info": {
   "codemirror_mode": {
    "name": "ipython",
    "version": 2
   },
   "file_extension": ".py",
   "mimetype": "text/x-python",
   "name": "python",
   "nbconvert_exporter": "python",
   "pygments_lexer": "ipython2",
   "version": "2.7.6"
  }
 },
 "nbformat": 4,
 "nbformat_minor": 5
}
