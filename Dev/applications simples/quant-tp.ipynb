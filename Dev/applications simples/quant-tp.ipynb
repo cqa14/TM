{
 "cells": [
  {
   "cell_type": "code",
   "execution_count": 1,
   "metadata": {
    "collapsed": true,
    "ExecuteTime": {
     "end_time": "2023-06-21T11:46:49.323871600Z",
     "start_time": "2023-06-21T11:46:40.852756800Z"
    }
   },
   "outputs": [],
   "source": [
    "from qiskit import *\n",
    "from qiskit.tools import job_monitor\n",
    "from qiskit.providers.ibmq import IBMQ\n",
    "from qiskit.providers.aer import AerSimulator\n",
    "from qiskit.visualization import plot_histogram\n",
    "\n",
    "# get a real backend from a real provider\n",
    "provider = IBMQ.load_account()\n",
    "backend = provider.get_backend('ibmq_manila')\n",
    "\n",
    "# generate a simulator that mimics the real quantum system with the latest calibration results\n",
    "backend_sim = AerSimulator.from_backend(backend)\n",
    "\n",
    "aer_sim = Aer.get_backend('aer_simulator')\n",
    "\n",
    "# using tikzplotlib to export plot to latex\n",
    "import tikzplotlib\n",
    "import matplotlib.pyplot as plt\n",
    "\n",
    "def tikzplotlib_fix_ncols(obj):\n",
    "    \"\"\"\n",
    "    workaround for matplotlib 3.6 renamed legend's _ncol to _ncols, which breaks tikzplotlib\n",
    "    \"\"\"\n",
    "    if hasattr(obj, \"_ncols\"):\n",
    "        obj._ncol = obj._ncols\n",
    "    for child in obj.get_children():\n",
    "        tikzplotlib_fix_ncols(child)\n",
    "\n",
    "def save_fig(name, width='10cm', height='10cm'):\n",
    "    fig = plt.gcf()\n",
    "    tikzplotlib_fix_ncols(fig)\n",
    "\n",
    "    tikzplotlib.clean_figure()\n",
    "    tikzplotlib.save(name + '.tex', axis_width=width, axis_height=height)"
   ]
  },
  {
   "cell_type": "code",
   "execution_count": 7,
   "outputs": [
    {
     "name": "stdout",
     "output_type": "stream",
     "text": [
      "\\documentclass[border=2px]{standalone}\n",
      "\n",
      "\\usepackage[braket, qm]{qcircuit}\n",
      "\\usepackage{graphicx}\n",
      "\n",
      "\\begin{document}\n",
      "\\scalebox{1.0}{\n",
      "\\Qcircuit @C=1.0em @R=0.2em @!R { \\\\\n",
      "\t \t\\nghost{{q12}_{0} :  } & \\lstick{{q12}_{0} :  } & \\qw & \\qw \\barrier[0em]{2} & \\qw & \\ctrl{1} & \\gate{\\mathrm{H}} \\barrier[0em]{2} & \\qw & \\meter & \\qw \\barrier[0em]{2} & \\qw & \\qw & \\qw & \\qw & \\qw\\\\\n",
      "\t \t\\nghost{{q12}_{1} :  } & \\lstick{{q12}_{1} :  } & \\gate{\\mathrm{H}} & \\ctrl{1} & \\qw & \\targ & \\qw & \\qw & \\qw & \\meter & \\qw & \\qw & \\qw & \\qw & \\qw\\\\\n",
      "\t \t\\nghost{{q12}_{2} :  } & \\lstick{{q12}_{2} :  } & \\qw & \\targ & \\qw & \\qw & \\qw & \\qw & \\qw & \\qw & \\qw & \\gate{\\mathrm{X}} & \\gate{\\mathrm{Z}} & \\qw & \\qw\\\\\n",
      "\t \t\\nghost{\\mathrm{{c7} :  }} & \\lstick{\\mathrm{{c7} :  }} & \\lstick{/_{_{1}}} \\cw & \\cw & \\cw & \\cw & \\cw & \\cw & \\dstick{_{_{\\hspace{0.0em}0}}} \\cw \\ar @{<=} [-3,0] & \\cw & \\cw & \\cw & \\control \\cw^(0.0){^{\\mathtt{0x1}}} \\cwx[-1] & \\cw & \\cw\\\\\n",
      "\t \t\\nghost{\\mathrm{{c6} :  }} & \\lstick{\\mathrm{{c6} :  }} & \\lstick{/_{_{1}}} \\cw & \\cw & \\cw & \\cw & \\cw & \\cw & \\cw & \\dstick{_{_{\\hspace{0.0em}0}}} \\cw \\ar @{<=} [-3,0] & \\cw & \\control \\cw^(0.0){^{\\mathtt{0x1}}} \\cwx[-2] & \\cw & \\cw & \\cw\\\\\n",
      "\\\\ }}\n",
      "\\end{document}\n"
     ]
    }
   ],
   "source": [
    "qr = QuantumRegister(3)\n",
    "crx = ClassicalRegister(1)\n",
    "crz = ClassicalRegister(1)\n",
    "qc = QuantumCircuit(qr, crz, crx)\n",
    "\n",
    "qc.h(qr[1])\n",
    "qc.cx(qr[1], qr[2])\n",
    "\n",
    "qc.barrier()\n",
    "\n",
    "qc.cx(qr[0], qr[1])\n",
    "qc.h(qr[0])\n",
    "\n",
    "qc.barrier()\n",
    "\n",
    "qc.measure(qr[0], crz[0])\n",
    "qc.measure(qr[1], crx[0])\n",
    "\n",
    "qc.barrier()\n",
    "\n",
    "qc.x(qr[2]).c_if(crx, 1)\n",
    "qc.z(qr[2]).c_if(crz, 1)\n",
    "\n",
    "print(qc.draw(output='latex_source'))"
   ],
   "metadata": {
    "collapsed": false,
    "ExecuteTime": {
     "end_time": "2023-06-21T11:54:38.730836200Z",
     "start_time": "2023-06-21T11:54:38.667792Z"
    }
   }
  },
  {
   "cell_type": "code",
   "execution_count": 11,
   "outputs": [
    {
     "name": "stdout",
     "output_type": "stream",
     "text": [
      "\\documentclass[border=2px]{standalone}\n",
      "\n",
      "\\usepackage[braket, qm]{qcircuit}\n",
      "\\usepackage{graphicx}\n",
      "\n",
      "\\begin{document}\n",
      "\\scalebox{1.0}{\n",
      "\\Qcircuit @C=1.0em @R=0.2em @!R { \\\\\n",
      "\t \t\\nghost{{q16}_{0} :  } & \\lstick{{q16}_{0} :  } & \\qw & \\qw \\barrier[0em]{2} & \\qw & \\ctrl{1} & \\gate{\\mathrm{H}} \\barrier[0em]{2} & \\qw & \\ctrl{2} & \\qw & \\qw & \\qw\\\\\n",
      "\t \t\\nghost{{q16}_{1} :  } & \\lstick{{q16}_{1} :  } & \\gate{\\mathrm{H}} & \\ctrl{1} & \\qw & \\targ & \\qw & \\qw & \\qw & \\ctrl{1} & \\qw & \\qw\\\\\n",
      "\t \t\\nghost{{q16}_{2} :  } & \\lstick{{q16}_{2} :  } & \\qw & \\targ & \\qw & \\qw & \\qw & \\qw & \\targ & \\control\\qw & \\qw & \\qw\\\\\n",
      "\\\\ }}\n",
      "\\end{document}\n"
     ]
    }
   ],
   "source": [
    "qr = QuantumRegister(3)\n",
    "qc = QuantumCircuit(qr)\n",
    "\n",
    "qc.h(qr[1])\n",
    "qc.cx(qr[1], qr[2])\n",
    "\n",
    "qc.barrier()\n",
    "\n",
    "qc.cx(qr[0], qr[1])\n",
    "qc.h(qr[0])\n",
    "\n",
    "qc.barrier()\n",
    "\n",
    "qc.cx(qr[0], qr[2])\n",
    "qc.cz(qr[1], qr[2])\n",
    "\n",
    "print(qc.draw(output='latex_source'))"
   ],
   "metadata": {
    "collapsed": false,
    "ExecuteTime": {
     "end_time": "2023-06-21T13:41:21.941393900Z",
     "start_time": "2023-06-21T13:41:21.908656300Z"
    }
   }
  }
 ],
 "metadata": {
  "kernelspec": {
   "display_name": "Python 3",
   "language": "python",
   "name": "python3"
  },
  "language_info": {
   "codemirror_mode": {
    "name": "ipython",
    "version": 2
   },
   "file_extension": ".py",
   "mimetype": "text/x-python",
   "name": "python",
   "nbconvert_exporter": "python",
   "pygments_lexer": "ipython2",
   "version": "2.7.6"
  }
 },
 "nbformat": 4,
 "nbformat_minor": 0
}
