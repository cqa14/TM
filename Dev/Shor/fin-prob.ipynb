{
 "cells": [
  {
   "cell_type": "code",
   "execution_count": 24,
   "outputs": [],
   "source": [
    "code = [14, 112, 49, 117, 17, 81, 53, 37, 49]\n",
    "decode = [0, 0, 0, 0, 0, 0, 0, 0, 0]"
   ],
   "metadata": {
    "collapsed": false,
    "ExecuteTime": {
     "end_time": "2023-08-12T08:51:29.653588100Z",
     "start_time": "2023-08-12T08:51:29.641159600Z"
    }
   },
   "id": "83f77052296069b4"
  },
  {
   "cell_type": "code",
   "execution_count": 25,
   "outputs": [],
   "source": [
    "n = 143\n",
    "d = 113"
   ],
   "metadata": {
    "collapsed": false,
    "ExecuteTime": {
     "end_time": "2023-08-12T08:51:29.666617100Z",
     "start_time": "2023-08-12T08:51:29.651084600Z"
    }
   },
   "id": "6ebc9ebcd6daca68"
  },
  {
   "cell_type": "code",
   "execution_count": 26,
   "outputs": [],
   "source": [
    "for i in range(0, 9):\n",
    "    decode[i] = pow(code[i], d, n)"
   ],
   "metadata": {
    "collapsed": false,
    "ExecuteTime": {
     "end_time": "2023-08-12T08:51:29.683161Z",
     "start_time": "2023-08-12T08:51:29.666116500Z"
    }
   },
   "id": "fbc3c1e61bd335ff"
  },
  {
   "cell_type": "code",
   "execution_count": 27,
   "outputs": [
    {
     "name": "stdout",
     "output_type": "stream",
     "text": [
      "[27, 8, 4, 13, 62, 9, 14, 20, 4]\n"
     ]
    }
   ],
   "source": [
    "print(decode)"
   ],
   "metadata": {
    "collapsed": false,
    "ExecuteTime": {
     "end_time": "2023-08-12T08:51:29.696685900Z",
     "start_time": "2023-08-12T08:51:29.682160200Z"
    }
   },
   "id": "489977ba33954a7b"
  }
 ],
 "metadata": {
  "kernelspec": {
   "display_name": "Python 3",
   "language": "python",
   "name": "python3"
  },
  "language_info": {
   "codemirror_mode": {
    "name": "ipython",
    "version": 2
   },
   "file_extension": ".py",
   "mimetype": "text/x-python",
   "name": "python",
   "nbconvert_exporter": "python",
   "pygments_lexer": "ipython2",
   "version": "2.7.6"
  }
 },
 "nbformat": 4,
 "nbformat_minor": 5
}
