{
 "cells": [
  {
   "cell_type": "code",
   "execution_count": 1,
   "id": "initial_id",
   "metadata": {
    "collapsed": true,
    "ExecuteTime": {
     "end_time": "2023-08-12T09:47:17.430533400Z",
     "start_time": "2023-08-12T09:47:15.804286400Z"
    }
   },
   "outputs": [],
   "source": [
    "from qiskit import *\n",
    "from qiskit.visualization import *\n",
    "\n",
    "from qiskit.visualization import plot_histogram\n",
    "from qiskit.circuit.library import QFT\n",
    "\n",
    "import numpy as np\n",
    "import matplotlib.pyplot as plt\n",
    "import math\n",
    "\n",
    "sim = Aer.get_backend('qasm_simulator')\n",
    "\n",
    "# using tikzplotlib to export plot to latex\n",
    "import tikzplotlib\n",
    "\n",
    "def tikzplotlib_fix_ncols(obj):\n",
    "    \"\"\"\n",
    "    workaround for matplotlib 3.6 renamed legend's _ncol to _ncols, which breaks tikzplotlib\n",
    "    \"\"\"\n",
    "    if hasattr(obj, \"_ncols\"):\n",
    "        obj._ncol = obj._ncols\n",
    "    for child in obj.get_children():\n",
    "        tikzplotlib_fix_ncols(child)\n",
    "\n",
    "def save_fig(name, width='10cm', height='10cm'):\n",
    "    fig = plt.gcf()\n",
    "    tikzplotlib_fix_ncols(fig)\n",
    "\n",
    "    tikzplotlib.clean_figure()\n",
    "    tikzplotlib.save(name + '.tex', axis_width=width, axis_height=height)"
   ]
  },
  {
   "cell_type": "code",
   "execution_count": 2,
   "outputs": [
    {
     "data": {
      "text/plain": "<PIL.Image.Image image mode=RGB size=250x71>",
      "image/png": "[encoded data removed]"
     },
     "metadata": {},
     "output_type": "display_data"
    },
    {
     "name": "stdout",
     "output_type": "stream",
     "text": [
      "\\documentclass[border=2px]{standalone}\n",
      "\n",
      "\\usepackage[braket, qm]{qcircuit}\n",
      "\\usepackage{graphicx}\n",
      "\n",
      "\\begin{document}\n",
      "\\scalebox{1.0}{\n",
      "\\Qcircuit @C=1.0em @R=0.2em @!R { \\\\\n",
      "\t \t\\nghost{{q} :  } & \\lstick{{q} :  } & \\gate{\\mathrm{H}} \\barrier[0em]{0} & \\qw & \\gate{\\mathrm{H}} & \\meter & \\qw & \\qw\\\\\n",
      "\t \t\\nghost{\\mathrm{{c} :  }} & \\lstick{\\mathrm{{c} :  }} & \\lstick{/_{_{1}}} \\cw & \\cw & \\cw & \\dstick{_{_{\\hspace{0.0em}0}}} \\cw \\ar @{<=} [-1,0] & \\cw & \\cw\\\\\n",
      "\\\\ }}\n",
      "\\end{document}\n"
     ]
    }
   ],
   "source": [
    "qc = QuantumCircuit(1,1)\n",
    "# Alice prepares qubit in state |+>\n",
    "qc.h(0)\n",
    "qc.barrier()\n",
    "# Alice now sends the qubit to Bob\n",
    "# who measures it in the X-basis\n",
    "qc.h(0)\n",
    "qc.measure(0,0)\n",
    "\n",
    "# Draw and simulate circuit\n",
    "display(qc.draw())\n",
    "print(qc.draw(output='latex_source'))"
   ],
   "metadata": {
    "collapsed": false,
    "ExecuteTime": {
     "end_time": "2023-08-12T09:48:18.355628800Z",
     "start_time": "2023-08-12T09:48:16.678203400Z"
    }
   },
   "id": "2bc766f701c478b6"
  },
  {
   "cell_type": "code",
   "execution_count": 3,
   "outputs": [
    {
     "data": {
      "text/plain": "<PIL.Image.Image image mode=RGB size=328x71>",
      "image/png": "[encoded data removed]"
     },
     "metadata": {},
     "output_type": "display_data"
    },
    {
     "name": "stdout",
     "output_type": "stream",
     "text": [
      "\\documentclass[border=2px]{standalone}\n",
      "\n",
      "\\usepackage[braket, qm]{qcircuit}\n",
      "\\usepackage{graphicx}\n",
      "\n",
      "\\begin{document}\n",
      "\\scalebox{1.0}{\n",
      "\\Qcircuit @C=1.0em @R=0.2em @!R { \\\\\n",
      "\t \t\\nghost{{q} :  } & \\lstick{{q} :  } & \\gate{\\mathrm{H}} \\barrier[0em]{0} & \\qw & \\meter \\barrier[0em]{0} & \\qw & \\gate{\\mathrm{H}} & \\meter & \\qw & \\qw\\\\\n",
      "\t \t\\nghost{\\mathrm{{c} :  }} & \\lstick{\\mathrm{{c} :  }} & \\lstick{/_{_{1}}} \\cw & \\cw & \\dstick{_{_{\\hspace{0.0em}0}}} \\cw \\ar @{<=} [-1,0] & \\cw & \\cw & \\dstick{_{_{\\hspace{0.0em}0}}} \\cw \\ar @{<=} [-1,0] & \\cw & \\cw\\\\\n",
      "\\\\ }}\n",
      "\\end{document}\n"
     ]
    }
   ],
   "source": [
    "qc = QuantumCircuit(1,1)\n",
    "# Alice prepares qubit in state |+>\n",
    "qc.h(0)\n",
    "# Alice now sends the qubit to Bob\n",
    "# but Eve intercepts and tries to read it\n",
    "qc.barrier()\n",
    "qc.measure(0, 0)\n",
    "qc.barrier()\n",
    "# Eve then passes this on to Bob\n",
    "# who measures it in the X-basis\n",
    "qc.h(0)\n",
    "qc.measure(0,0)\n",
    "\n",
    "# Draw and simulate circuit\n",
    "display(qc.draw())\n",
    "print(qc.draw(output='latex_source'))"
   ],
   "metadata": {
    "collapsed": false,
    "ExecuteTime": {
     "end_time": "2023-08-12T09:54:39.513223600Z",
     "start_time": "2023-08-12T09:54:38.667827900Z"
    }
   },
   "id": "12197a16ee9e48c4"
  }
 ],
 "metadata": {
  "kernelspec": {
   "display_name": "Python 3",
   "language": "python",
   "name": "python3"
  },
  "language_info": {
   "codemirror_mode": {
    "name": "ipython",
    "version": 2
   },
   "file_extension": ".py",
   "mimetype": "text/x-python",
   "name": "python",
   "nbconvert_exporter": "python",
   "pygments_lexer": "ipython2",
   "version": "2.7.6"
  }
 },
 "nbformat": 4,
 "nbformat_minor": 5
}
