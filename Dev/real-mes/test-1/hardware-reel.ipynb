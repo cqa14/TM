{
 "cells": [
  {
   "cell_type": "code",
   "execution_count": 1,
   "id": "initial_id",
   "metadata": {
    "ExecuteTime": {
     "end_time": "2023-08-26T12:58:22.584248100Z",
     "start_time": "2023-08-26T12:58:19.863358500Z"
    }
   },
   "outputs": [],
   "source": [
    "from qiskit import *\n",
    "from qiskit.visualization import *\n",
    "from qiskit.circuit.library import MCMT\n",
    "\n",
    "from qiskit.visualization import plot_histogram\n",
    "from qiskit.circuit.library import QFT\n",
    "\n",
    "import numpy as np\n",
    "import matplotlib.pyplot as plt\n",
    "import math\n",
    "\n",
    "from math import gcd\n",
    "from numpy.random import randint\n",
    "import pandas as pd\n",
    "from fractions import Fraction\n",
    "\n",
    "sim = Aer.get_backend('qasm_simulator')\n",
    "\n",
    "# using tikzplotlib to export plot to latex\n",
    "import tikzplotlib\n",
    "\n",
    "def tikzplotlib_fix_ncols(obj):\n",
    "    \"\"\"\n",
    "    workaround for matplotlib 3.6 renamed legend's _ncol to _ncols, which breaks tikzplotlib\n",
    "    \"\"\"\n",
    "    if hasattr(obj, \"_ncols\"):\n",
    "        obj._ncol = obj._ncols\n",
    "    for child in obj.get_children():\n",
    "        tikzplotlib_fix_ncols(child)\n",
    "\n",
    "def save_fig(name, width='10cm', height='10cm'):\n",
    "    fig = plt.gcf()\n",
    "    tikzplotlib_fix_ncols(fig)\n",
    "\n",
    "    tikzplotlib.clean_figure()\n",
    "    tikzplotlib.save(name + '.tex', axis_width=width, axis_height=height)"
   ]
  },
  {
   "cell_type": "code",
   "execution_count": 2,
   "id": "90c10b9afb168d3",
   "metadata": {
    "ExecuteTime": {
     "end_time": "2023-08-26T12:58:31.622765Z",
     "start_time": "2023-08-26T12:58:22.586750800Z"
    }
   },
   "outputs": [
    {
     "name": "stderr",
     "output_type": "stream",
     "text": [
      "C:\\Users\\romai\\AppData\\Local\\Temp\\ipykernel_29904\\546407164.py:5: DeprecationWarning: The qiskit.IBMQ entrypoint and the qiskit-ibmq-provider package (accessible from 'qiskit.providers.ibmq`) are deprecated and will be removed in a future release. Instead you should use the qiskit-ibm-provider package which is accessible from 'qiskit_ibm_provider'. You can install it with 'pip install qiskit_ibm_provider'. Just replace 'qiskit.IBMQ' with 'qiskit_ibm_provider.IBMProvider'\n",
      "  provider = IBMQ.load_account()\n"
     ]
    },
    {
     "data": {
      "text/plain": "<IBMQBackend('ibm_perth') from IBMQ(hub='ibm-q', group='open', project='main')>"
     },
     "metadata": {},
     "output_type": "display_data"
    }
   ],
   "source": [
    "from qiskit import IBMQ\n",
    "from qiskit.providers.ibmq import least_busy\n",
    "from qiskit.tools import job_monitor\n",
    "\n",
    "provider = IBMQ.load_account()\n",
    "device = least_busy(\n",
    "    provider.backends(\n",
    "        filters=lambda x: x.configuration().n_qubits >= 7\n",
    "                          and not x.configuration().simulator                # Not a simulator\n",
    "                          and x.status().operational == True                 # Operational backend\n",
    "    )\n",
    ")\n",
    "\n",
    "qc_all = []\n",
    "\n",
    "display(device)"
   ]
  },
  {
   "cell_type": "code",
   "execution_count": 3,
   "id": "4d4c5183c84631ec",
   "metadata": {
    "ExecuteTime": {
     "end_time": "2023-08-26T12:58:31.636525600Z",
     "start_time": "2023-08-26T12:58:31.625357400Z"
    }
   },
   "outputs": [],
   "source": [
    "# circuit p.34\n",
    "qr = QuantumRegister(1)\n",
    "cr = ClassicalRegister(1)\n",
    "qc = QuantumCircuit(qr, cr)\n",
    "qc.h(qr[0])\n",
    "qc.measure(qr, cr)\n",
    "\n",
    "qc_all.append(qc)"
   ]
  },
  {
   "cell_type": "code",
   "execution_count": 4,
   "id": "17d4f8008145aae1",
   "metadata": {
    "ExecuteTime": {
     "end_time": "2023-08-26T12:58:31.666059400Z",
     "start_time": "2023-08-26T12:58:31.637527800Z"
    }
   },
   "outputs": [],
   "source": [
    "# circuit p.41\n",
    "qc_c = QuantumCircuit(2)\n",
    "qc_c.h(0)\n",
    "qc_c.cx(0, 1)\n",
    "\n",
    "qc_a00 = QuantumCircuit(2)\n",
    "qc_a00.id(0)\n",
    "\n",
    "qc_a01 = QuantumCircuit(2)\n",
    "qc_a01.x(0)\n",
    "\n",
    "qc_a10 = QuantumCircuit(2)\n",
    "qc_a10.z(0)\n",
    "\n",
    "qc_a11 = QuantumCircuit(2)\n",
    "qc_a11.z(0)\n",
    "qc_a11.x(0)\n",
    "\n",
    "qc_a = [qc_a00, qc_a01, qc_a10, qc_a11]\n",
    "\n",
    "qc_b = QuantumCircuit(2)\n",
    "qc_b.cx(0, 1)\n",
    "qc_b.h(0)\n",
    "qc_b.measure_all()\n",
    "\n",
    "qc_out = qc_c.compose(qc_a[2]).compose(qc_b)\n",
    "\n",
    "qc_all.append(qc_out)"
   ]
  },
  {
   "cell_type": "code",
   "execution_count": 5,
   "id": "f78451930ce362d6",
   "metadata": {
    "ExecuteTime": {
     "end_time": "2023-08-26T12:58:31.715179600Z",
     "start_time": "2023-08-26T12:58:31.653048200Z"
    }
   },
   "outputs": [],
   "source": [
    "# circuit p.65\n",
    "def c_amod15(a, power):\n",
    "    \"\"\"Controlled multiplication by a mod 15\"\"\"\n",
    "    if a not in [2,4,7,8,11,13]:\n",
    "        raise ValueError(\"'a' must be 2,4,7,8,11 or 13\")\n",
    "    U = QuantumCircuit(4)\n",
    "    for _iteration in range(power):\n",
    "        if a in [2,13]:\n",
    "            U.swap(2,3)\n",
    "            U.swap(1,2)\n",
    "            U.swap(0,1)\n",
    "        if a in [7,8]:\n",
    "            U.swap(0,1)\n",
    "            U.swap(1,2)\n",
    "            U.swap(2,3)\n",
    "        if a in [4, 11]:\n",
    "            U.swap(1,3)\n",
    "            U.swap(0,2)\n",
    "        if a in [7,11,13]:\n",
    "            for q in range(4):\n",
    "                U.x(q)\n",
    "    U = U.to_gate()\n",
    "    U.name = f\"{a}^{power} mod 15\"\n",
    "    c_U = U.control()\n",
    "    return c_U\n",
    "\n",
    "# Specify variables\n",
    "N_COUNT = 3  # number of counting qubits\n",
    "a = 7\n",
    "\n",
    "def qft_dagger(n):\n",
    "    \"\"\"n-qubit QFTdagger the first n qubits in circ\"\"\"\n",
    "    qc = QuantumCircuit(n)\n",
    "    # Don't forget the Swaps!\n",
    "    for qubit in range(n//2):\n",
    "        qc.swap(qubit, n-qubit-1)\n",
    "    for j in range(n):\n",
    "        for m in range(j):\n",
    "            qc.cp(-np.pi/float(2**(j-m)), m, j)\n",
    "        qc.h(j)\n",
    "    qc.name = \"QFT†\"\n",
    "    return qc\n",
    "\n",
    "# Create QuantumCircuit with N_COUNT counting qubits\n",
    "# plus 4 qubits for U to act on\n",
    "qr = QuantumRegister(N_COUNT + 4)\n",
    "cr = ClassicalRegister(N_COUNT)\n",
    "qc = QuantumCircuit(qr, cr)\n",
    "\n",
    "# Initialize counting qubits\n",
    "# in state |+>\n",
    "for q in range(N_COUNT):\n",
    "    qc.h(q)\n",
    "\n",
    "# And auxiliary register in state |1>\n",
    "qc.x(N_COUNT)\n",
    "\n",
    "# Do controlled-U operations\n",
    "for q in range(N_COUNT):\n",
    "    qc.append(c_amod15(a, 2**q),\n",
    "              [q] + [i+N_COUNT for i in range(4)])\n",
    "\n",
    "# Do inverse-QFT\n",
    "qc.append(qft_dagger(N_COUNT), range(N_COUNT))\n",
    "\n",
    "# Measure circuit\n",
    "qc.measure(range(N_COUNT), range(N_COUNT))\n",
    "\n",
    "from qiskit.utils.mitigation import complete_meas_cal, CompleteMeasFitter\n",
    "meas_calibs1, state_labels1 = complete_meas_cal(qubit_list=[0,1,2,3,4,5,6], circlabel='mcal')\n",
    "\n",
    "qc_all.append(qc)"
   ]
  },
  {
   "cell_type": "code",
   "execution_count": 6,
   "id": "48231fbc5f45e660",
   "metadata": {
    "ExecuteTime": {
     "end_time": "2023-08-26T12:58:31.732746400Z",
     "start_time": "2023-08-26T12:58:31.719183800Z"
    }
   },
   "outputs": [
    {
     "data": {
      "text/plain": "<qiskit.circuit.instructionset.InstructionSet at 0x22a44aac5e0>"
     },
     "execution_count": 6,
     "metadata": {},
     "output_type": "execute_result"
    }
   ],
   "source": [
    "# circuit p.80\n",
    "\n",
    "##### your code goes here ######\n",
    "q = QuantumRegister(2)\n",
    "c = ClassicalRegister(3)\n",
    "\n",
    "qc_T = QuantumCircuit(q,c)\n",
    "\n",
    "# First step\n",
    "##1 Initialization\n",
    "qc_T.h(q[0])\n",
    "qc_T.x(q[1])\n",
    "##2 Apply control-U operator as many times as needed to get the least significant phase bit\n",
    "qc_T.cp(np.pi/4, q[1], q[0])\n",
    "qc_T.cp(np.pi/4, q[1], q[0])\n",
    "qc_T.cp(np.pi/4, q[1], q[0])\n",
    "qc_T.cp(np.pi/4, q[1], q[0])\n",
    "##3 measure the anscillar qubit in x-basis\n",
    "qc_T.h(q[0])\n",
    "qc_T.measure(q[0], c[0])\n",
    "\n",
    "# Second step\n",
    "qc_T.barrier()\n",
    "qc_T.reset(q[0])\n",
    "##1 Initialization\n",
    "qc_T.h(q[0])\n",
    "##2 Apply control-U operator as many times as needed \n",
    "qc_T.cp(np.pi/4, q[1], q[0])\n",
    "qc_T.cp(np.pi/4, q[1], q[0])\n",
    "##3 phase correction\n",
    "qc_T.p(-np.pi/2, q[0]).c_if(c[0], 1)\n",
    "##4 measure the anscillar qubit in x-basis\n",
    "qc_T.h(q[0])\n",
    "qc_T.measure(q[0], c[1])\n",
    "\n",
    "# Third step\n",
    "qc_T.barrier()\n",
    "qc_T.reset(q[0])\n",
    "##1 Initialization\n",
    "qc_T.h(q[0])\n",
    "##2 Apply control-U operator as many times as needed to get the least significant phase bit\n",
    "qc_T.cp(np.pi/4, q[1], q[0])\n",
    "##3 phase correction\n",
    "qc_T.p(-np.pi/2, q[0]).c_if(c[1], 1)\n",
    "qc_T.p(-np.pi/4, q[0]).c_if(c[0], 1)\n",
    "##4 measure the anscillar qubit in x-basis\n",
    "qc_T.h(q[0])\n",
    "qc_T.measure(q[0], c[2])\n",
    "\n",
    "# qc_all.append(qc_T)"
   ]
  },
  {
   "cell_type": "code",
   "execution_count": 7,
   "id": "b98cb3e93aec6f00",
   "metadata": {
    "ExecuteTime": {
     "end_time": "2023-08-26T12:58:31.774851800Z",
     "start_time": "2023-08-26T12:58:31.730244400Z"
    }
   },
   "outputs": [],
   "source": [
    "# erreur p.84\n",
    "\n",
    "# circuit for the state Tri1\n",
    "Tri1 = QuantumCircuit(2)\n",
    "# your code goes here\n",
    "Tri1.h(0)\n",
    "Tri1.cx(0,1)\n",
    "\n",
    "# circuit for the state Tri2\n",
    "Tri2 = QuantumCircuit(2)\n",
    "# your code goes here\n",
    "Tri2.x(0)\n",
    "Tri2.h(0)\n",
    "Tri2.cx(0,1)\n",
    "\n",
    "# circuit for the state Tri3\n",
    "Tri3 = QuantumCircuit(2)\n",
    "# your code goes here\n",
    "Tri3.x(1)\n",
    "Tri3.h(0)\n",
    "Tri3.cx(0,1)\n",
    "\n",
    "# circuit for the state Sing\n",
    "Sing = QuantumCircuit(2)\n",
    "# your code goes here\n",
    "Sing.x(1)\n",
    "Sing.h(0)\n",
    "Sing.z(0)\n",
    "Sing.z(1)\n",
    "Sing.cx(0,1)\n",
    "\n",
    "# <ZZ> \n",
    "measure_ZZ = QuantumCircuit(2)\n",
    "measure_ZZ.measure_all()\n",
    "\n",
    "# <XX>\n",
    "measure_XX = QuantumCircuit(2)\n",
    "# your code goes here\n",
    "measure_XX.h([0,1])\n",
    "measure_XX.measure_all()\n",
    "\n",
    "\n",
    "\n",
    "# <YY>\n",
    "measure_YY = QuantumCircuit(2)\n",
    "# your code goes here\n",
    "measure_YY.sdg([0,1])\n",
    "measure_YY.h([0,1])\n",
    "measure_YY.measure_all()\n",
    "\n",
    "qc_mod = [state_init.compose(measure_circuit) for state_init in [Tri1,Tri2,Tri3,Sing]\n",
    "          for measure_circuit in [measure_XX, measure_YY, measure_ZZ] ]\n",
    "\n",
    "meas_calibs2, state_labels2 = complete_meas_cal(qr=2, circlabel='mcal')\n",
    "\n",
    "for i in qc_mod:\n",
    "    qc_all.append(i)"
   ]
  },
  {
   "cell_type": "code",
   "execution_count": 8,
   "outputs": [
    {
     "data": {
      "text/plain": "[<qiskit.circuit.quantumcircuit.QuantumCircuit at 0x2299e6be230>,\n <qiskit.circuit.quantumcircuit.QuantumCircuit at 0x22a44aadae0>,\n <qiskit.circuit.quantumcircuit.QuantumCircuit at 0x2299e6bfc40>,\n <qiskit.circuit.quantumcircuit.QuantumCircuit at 0x22a44c21f90>,\n <qiskit.circuit.quantumcircuit.QuantumCircuit at 0x22a44c22e60>,\n <qiskit.circuit.quantumcircuit.QuantumCircuit at 0x22a44c21f60>,\n <qiskit.circuit.quantumcircuit.QuantumCircuit at 0x22a44c22710>,\n <qiskit.circuit.quantumcircuit.QuantumCircuit at 0x22a44c22920>,\n <qiskit.circuit.quantumcircuit.QuantumCircuit at 0x22a44c22e00>,\n <qiskit.circuit.quantumcircuit.QuantumCircuit at 0x22a44c23070>,\n <qiskit.circuit.quantumcircuit.QuantumCircuit at 0x22a44c23610>,\n <qiskit.circuit.quantumcircuit.QuantumCircuit at 0x22a44c21960>,\n <qiskit.circuit.quantumcircuit.QuantumCircuit at 0x22a44c23e50>,\n <qiskit.circuit.quantumcircuit.QuantumCircuit at 0x22a44c4c070>,\n <qiskit.circuit.quantumcircuit.QuantumCircuit at 0x22a44c4c490>]"
     },
     "execution_count": 8,
     "metadata": {},
     "output_type": "execute_result"
    }
   ],
   "source": [
    "qc_all"
   ],
   "metadata": {
    "collapsed": false,
    "ExecuteTime": {
     "end_time": "2023-08-26T12:58:31.778889700Z",
     "start_time": "2023-08-26T12:58:31.746261200Z"
    }
   },
   "id": "11ad134b29d67124"
  },
  {
   "cell_type": "code",
   "execution_count": 9,
   "id": "1855584764042b88",
   "metadata": {
    "ExecuteTime": {
     "end_time": "2023-08-26T19:26:01.668406100Z",
     "start_time": "2023-08-26T12:58:31.762838200Z"
    }
   },
   "outputs": [
    {
     "name": "stdout",
     "output_type": "stream",
     "text": [
      "Job Status: job has successfully run\n"
     ]
    }
   ],
   "source": [
    "shots = 8192\n",
    "\n",
    "# Submit a job.\n",
    "job = execute(qc_all, backend=device, optimization_level=3, shots=shots)\n",
    "job_monitor(job)"
   ]
  },
  {
   "cell_type": "code",
   "execution_count": 10,
   "id": "b657b1709368c8a8",
   "metadata": {
    "ExecuteTime": {
     "end_time": "2023-08-26T19:26:02.737569700Z",
     "start_time": "2023-08-26T19:26:01.668906300Z"
    }
   },
   "outputs": [
    {
     "name": "stdout",
     "output_type": "stream",
     "text": [
      "{'0': 4159, '1': 4033}\n"
     ]
    },
    {
     "name": "stderr",
     "output_type": "stream",
     "text": [
      "C:\\Users\\romai\\AppData\\Roaming\\Python\\Python310\\site-packages\\tikzplotlib\\_cleanfigure.py:200: UserWarning: Cleaning Bar Container (bar plot) is not supported yet.\n",
      "  warnings.warn(\"Cleaning Bar Container (bar plot) is not supported yet.\")\n"
     ]
    },
    {
     "data": {
      "text/plain": "<Figure size 640x480 with 1 Axes>",
      "image/png": "[encoded data removed]"
     },
     "metadata": {},
     "output_type": "display_data"
    }
   ],
   "source": [
    "# 34\n",
    "count34 = job.result().get_counts(0)\n",
    "print(count34)\n",
    "plt.bar(count34.keys(), count34.values())\n",
    "save_fig('real-mes-supp')"
   ]
  },
  {
   "cell_type": "code",
   "execution_count": 11,
   "id": "610cf997a4ca8ded",
   "metadata": {
    "ExecuteTime": {
     "end_time": "2023-08-26T19:26:02.830072Z",
     "start_time": "2023-08-26T19:26:02.739571500Z"
    }
   },
   "outputs": [
    {
     "name": "stdout",
     "output_type": "stream",
     "text": [
      "{'0': 4159, '1': 4033}\n"
     ]
    },
    {
     "data": {
      "text/plain": "<Figure size 640x480 with 1 Axes>",
      "image/png": "[encoded data removed]"
     },
     "metadata": {},
     "output_type": "display_data"
    }
   ],
   "source": [
    "# 41\n",
    "count41 = job.result().get_counts(1)\n",
    "print(count41)\n",
    "plt.bar(count41.keys(), count41.values())\n",
    "save_fig('sup-cod-his')"
   ]
  },
  {
   "cell_type": "code",
   "execution_count": 12,
   "outputs": [
    {
     "name": "stdout",
     "output_type": "stream",
     "text": [
      "Job Status: job has successfully run\n"
     ]
    }
   ],
   "source": [
    "jobcal1 = execute(meas_calibs1, backend=device)\n",
    "job_monitor(jobcal1)"
   ],
   "metadata": {
    "collapsed": false,
    "ExecuteTime": {
     "end_time": "2023-08-26T19:32:06.562527900Z",
     "start_time": "2023-08-26T19:26:02.830572300Z"
    }
   },
   "id": "235de1333bae739d"
  },
  {
   "cell_type": "code",
   "execution_count": 16,
   "id": "cd2b3f522629c9b8",
   "metadata": {
    "ExecuteTime": {
     "end_time": "2023-08-26T20:03:06.145034400Z",
     "start_time": "2023-08-26T20:03:06.029148300Z"
    }
   },
   "outputs": [
    {
     "data": {
      "text/plain": "<Figure size 1000x1000 with 1 Axes>",
      "image/png": "[encoded data removed]"
     },
     "metadata": {},
     "output_type": "display_data"
    }
   ],
   "source": [
    "# 65\n",
    "\n",
    "count65 = job.result().get_counts(2)\n",
    "# meas_cal_65 = jobcal1.result()\n",
    "# \n",
    "# meas_fitter = CompleteMeasFitter(meas_cal_65, state_labels1, circlabel='mcal')\n",
    "# meas_filter = meas_fitter.filter\n",
    "# \n",
    "# mitigated_results = meas_filter.apply(job.result())\n",
    "# mitigated_counts = mitigated_results.get_counts()\n",
    "\n",
    "plt.figure(figsize=(10,10))\n",
    "plt.barh(list(count65.keys()), count65.values(), edgecolor='red', fill=False)\n",
    "# plt.barh(list(mitigated_counts.keys()), mitigated_counts.values(), edgecolor='blue', fill=False)\n",
    "save_fig('shor_plot_mitigated')"
   ]
  },
  {
   "cell_type": "code",
   "execution_count": 14,
   "id": "856c90944dab882e",
   "metadata": {
    "ExecuteTime": {
     "end_time": "2023-08-26T20:02:00.319632600Z",
     "start_time": "2023-08-26T20:02:00.294004700Z"
    }
   },
   "outputs": [],
   "source": [
    "# 80\n",
    "\n",
    "# count80 = job.result().get_counts(2)\n",
    "# \n",
    "# n=3\n",
    "# key_new = [str(int(key,2)/2**n) for key in list(count80.keys())]\n",
    "# count1 = dict(zip(key_new, count80.values()))\n",
    "# \n",
    "# fig, ax = plt.subplots(1,2)\n",
    "# plot_histogram(count80, ax=ax[0])\n",
    "# plot_histogram(count1, ax=ax[1])\n",
    "# plt.tight_layout()\n",
    "# \n",
    "# save_fig('ipe_real')"
   ]
  },
  {
   "cell_type": "code",
   "execution_count": null,
   "outputs": [],
   "source": [
    "jobcal2 = execute(meas_calibs2, backend=device)\n",
    "job_monitor(jobcal2)"
   ],
   "metadata": {
    "collapsed": false,
    "ExecuteTime": {
     "start_time": "2023-08-26T19:32:10.974475100Z"
    }
   },
   "id": "27868eb07ce337f6"
  },
  {
   "cell_type": "code",
   "execution_count": 17,
   "id": "434f2a3f5af9f9d",
   "metadata": {
    "ExecuteTime": {
     "end_time": "2023-08-26T20:03:55.472859200Z",
     "start_time": "2023-08-26T20:03:54.314424200Z"
    }
   },
   "outputs": [
    {
     "name": "stdout",
     "output_type": "stream",
     "text": [
      "Energy expection value of the state Tri1 : 1.706e-07 eV\n",
      "Energy expection value of the state Tri2 : 1.495e-07 eV\n",
      "Energy expection value of the state Tri3 : 1.523e-07 eV\n",
      "Energy expection value of the state Sing : -4.852e-07 eV\n"
     ]
    }
   ],
   "source": [
    "# 84\n",
    "\n",
    "shots = 2**16 # number of samples used for statistics\n",
    "\n",
    "A = 1.47e-6 #unit of A is eV\n",
    "E_sim = []\n",
    "for state_init in [Tri1,Tri2,Tri3,Sing]:\n",
    "    Energy_meas = []\n",
    "    for measure_circuit in [measure_XX, measure_YY, measure_ZZ]:\n",
    "\n",
    "        # run the circuit with the selected measurement and get the number of samples that output each bit value\n",
    "        qc = state_init.compose(measure_circuit)\n",
    "        qc_trans = transpile(qc, sim)\n",
    "        counts = sim.run(qc_trans, shots=shots).result().get_counts()\n",
    "\n",
    "        # calculate the probabilities for each computational basis\n",
    "        probs = {}\n",
    "        for output in ['00','01', '10', '11']:\n",
    "            if output in counts:\n",
    "                probs[output] = counts[output]/shots\n",
    "            else:\n",
    "                probs[output] = 0\n",
    "\n",
    "        Energy_meas.append( probs['00'] - probs['01'] - probs['10'] + probs['11'] )\n",
    "\n",
    "    E_sim.append(A * np.sum(np.array(Energy_meas)))\n",
    "\n",
    "results = job.result()\n",
    "\n",
    "def Energy(results, shots):\n",
    "    \"\"\"Compute the energy levels of the hydrogen ground state.\n",
    "    \n",
    "    Parameters:\n",
    "        results (obj): results, results from executing the circuits for measuring a hamiltonian.\n",
    "        shots (int): shots, number of shots used for the circuit execution.\n",
    "        \n",
    "    Returns:\n",
    "        Energy (list): energy values of the four different hydrogen ground states\n",
    "    \"\"\"\n",
    "    E = []\n",
    "    A = 1.47e-6\n",
    "\n",
    "    for ind_state in range(4):\n",
    "        Energy_meas = []\n",
    "        for ind_comp in range(3):\n",
    "            counts = results.get_counts(3 + ind_state*3+ind_comp)\n",
    "\n",
    "            # calculate the probabilities for each computational basis\n",
    "            probs = {}\n",
    "            for output in ['00','01', '10', '11']:\n",
    "                if output in counts:\n",
    "                    probs[output] = counts[output]/shots\n",
    "                else:\n",
    "                    probs[output] = 0\n",
    "\n",
    "            Energy_meas.append( probs['00'] - probs['01'] - probs['10'] + probs['11'] )\n",
    "\n",
    "        E.append(A * np.sum(np.array(Energy_meas)))\n",
    "\n",
    "    return E\n",
    "\n",
    "E = Energy(results, shots)\n",
    "\n",
    "print('Energy expection value of the state Tri1 : {:.3e} eV'.format(E[0]))\n",
    "print('Energy expection value of the state Tri2 : {:.3e} eV'.format(E[1]))\n",
    "print('Energy expection value of the state Tri3 : {:.3e} eV'.format(E[2]))\n",
    "print('Energy expection value of the state Sing : {:.3e} eV'.format(E[3]))\n",
    "\n",
    "# cal_results = jobcal2.result()\n",
    "# meas_fitter = CompleteMeasFitter(cal_results, state_labels2, circlabel='mcal')\n",
    "# meas_filter = meas_fitter.filter\n",
    "# \n",
    "# results_new = meas_filter.apply(results)\n",
    "# \n",
    "# E_new = Energy(results_new, shots)\n",
    "# \n",
    "# print('Energy expection value of the state Tri1 : {:.3e} eV'.format(E_new[0]))\n",
    "# print('Energy expection value of the state Tri2 : {:.3e} eV'.format(E_new[1]))\n",
    "# print('Energy expection value of the state Tri3 : {:.3e} eV'.format(E_new[2]))\n",
    "# print('Energy expection value of the state Sing : {:.3e} eV'.format(E_new[3]))\n",
    "\n",
    "# Energy_exact, Energy_exp_orig, Energy_exp_new = np.array(E_sim), np.array(E), np.array(E_new)\n",
    "# \n",
    "# Err_rel_orig = np.round(np.abs(Energy_exact - Energy_exp_orig)/Energy_exact, 4)\n",
    "# \n",
    "# Err_rel_new = np.round(np.abs(Energy_exact - Energy_exp_new)/Energy_exact, 4)\n",
    "# \n",
    "# np.set_printoptions(precision=3)\n",
    "# \n",
    "# print('The relative errors of the energy values for four bell basis\\\n",
    "#  without measurement error mitigation : {}'.format(Err_rel_orig))\n",
    "# \n",
    "# np.set_printoptions(precision=3)\n",
    "# \n",
    "# print('The relative errors of the energy values for four bell basis\\\n",
    "#  with measurement error mitigation : {}'.format(Err_rel_new))"
   ]
  }
 ],
 "metadata": {
  "kernelspec": {
   "display_name": "Python 3 (ipykernel)",
   "language": "python",
   "name": "python3"
  },
  "language_info": {
   "codemirror_mode": {
    "name": "ipython",
    "version": 3
   },
   "file_extension": ".py",
   "mimetype": "text/x-python",
   "name": "python",
   "nbconvert_exporter": "python",
   "pygments_lexer": "ipython3",
   "version": "3.10.8"
  }
 },
 "nbformat": 4,
 "nbformat_minor": 5
}
